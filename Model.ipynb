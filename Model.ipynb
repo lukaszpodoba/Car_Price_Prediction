{
  "cells": [
    {
      "cell_type": "markdown",
      "metadata": {
        "id": "-oKmpsk0v3un"
      },
      "source": [
        "# Imports"
      ]
    },
    {
      "cell_type": "code",
      "execution_count": 105,
      "metadata": {
        "id": "gamZoebo0LXz"
      },
      "outputs": [],
      "source": [
        "import pandas as pd\n",
        "import numpy as np\n",
        "import shap\n",
        "import matplotlib.pyplot as plt\n",
        "from xgboost import XGBRegressor\n",
        "from sklearn.model_selection import train_test_split\n",
        "from sklearn.metrics import mean_absolute_error, mean_squared_error, r2_score\n",
        "import seaborn as sns\n",
        "from datetime import timedelta\n",
        "import re\n",
        "import optuna\n",
        "import xgboost as xgb\n",
        "from sklearn.datasets import load_diabetes"
      ]
    },
    {
      "cell_type": "markdown",
      "metadata": {
        "id": "gy7Pz1Wnv3ur"
      },
      "source": [
        "# Paths and Loading"
      ]
    },
    {
      "cell_type": "code",
      "execution_count": 106,
      "metadata": {
        "id": "G81WpZA2v3ur"
      },
      "outputs": [],
      "source": [
        "DIR_PATH = ''"
      ]
    },
    {
      "cell_type": "markdown",
      "metadata": {
        "id": "46Khg2jfv3us"
      },
      "source": [
        "### Train and test dataset"
      ]
    },
    {
      "cell_type": "code",
      "execution_count": 107,
      "metadata": {
        "id": "K03fjmPDv3us"
      },
      "outputs": [],
      "source": [
        "df_original_name = 'sales_ads_train.csv'\n",
        "df_test_name = 'sales_ads_test.csv'"
      ]
    },
    {
      "cell_type": "code",
      "execution_count": 108,
      "metadata": {
        "id": "damjHsdvv3us"
      },
      "outputs": [],
      "source": [
        "df_original = pd.read_csv(DIR_PATH + '/' + df_original_name)\n",
        "df_test = pd.read_csv(DIR_PATH + '/' + df_test_name)"
      ]
    },
    {
      "cell_type": "markdown",
      "metadata": {
        "id": "qQ0trjYyv3uu"
      },
      "source": [
        "### Additional dataset for imputation"
      ]
    },
    {
      "cell_type": "code",
      "execution_count": 109,
      "metadata": {
        "id": "xMfcLpF2v3uu"
      },
      "outputs": [],
      "source": [
        "df_otomoto_name = 'otomoto_offers_eng_23-04-2023.csv'"
      ]
    },
    {
      "cell_type": "code",
      "execution_count": 110,
      "metadata": {
        "id": "L3AcuzKQv3uu"
      },
      "outputs": [],
      "source": [
        "df_otomoto = pd.read_csv(DIR_PATH + '/' + df_otomoto_name, sep=';', usecols = ['offer_creation_date',\n",
        "                         'price',\n",
        "                         'currency',\n",
        "                         'vehicle_brand',\n",
        "                         'vehicle_model',\n",
        "                         'generation',\n",
        "                         'production_year',\n",
        "                         'mileage',\n",
        "                         'engine_displacement',\n",
        "                         'fuel_type',\n",
        "                         'power',\n",
        "                         'transmission',\n",
        "                         'number_of_seats',\n",
        "                         'number_of_doors',\n",
        "                         'version',\n",
        "                         'body_type'])"
      ]
    },
    {
      "cell_type": "markdown",
      "metadata": {
        "id": "syV0zeJdv3uv"
      },
      "source": [
        "# Changing types"
      ]
    },
    {
      "cell_type": "code",
      "execution_count": 111,
      "metadata": {
        "id": "mOlqR3bOv3uv"
      },
      "outputs": [],
      "source": [
        "import pandas as pd\n",
        "\n",
        "def convert_column_types(df):\n",
        "\n",
        "    datetime_cols = [\"Data_pierwszej_rejestracji\", \"Data_publikacji_oferty\"]\n",
        "    categorical_cols = [\n",
        "        \"Stan\", \"Marka_pojazdu\", \"Wersja_pojazdu\",\n",
        "        \"Rodzaj_paliwa\", \"Naped\", \"Skrzynia_biegow\",\n",
        "        \"Typ_nadwozia\", \"Liczba_drzwi\", \"Kolor\", \"Kraj_pochodzenia\",\n",
        "        \"Lokalizacja_oferty\", \"Wyposazenie\", \"Pierwszy_wlasciciel\"\n",
        "    ]\n",
        "    numeric_cols = [\"Rok_produkcji\", \"Przebieg_km\", \"Moc_KM\", \"Pojemnosc_cm3\", \"Emisja_CO2\"]\n",
        "\n",
        "    for col in datetime_cols:\n",
        "        df[col] = pd.to_datetime(df[col], errors='coerce', format=\"%d/%m/%Y\")\n",
        "\n",
        "    for col in categorical_cols:\n",
        "         df[col] = df[col].astype('category')\n",
        "\n",
        "    for col in numeric_cols:\n",
        "        df[col] = pd.to_numeric(df[col], errors='coerce')\n",
        "\n",
        "    return df\n"
      ]
    },
    {
      "cell_type": "code",
      "execution_count": 112,
      "metadata": {
        "id": "k7Kbl3Kqv3uv"
      },
      "outputs": [],
      "source": [
        "df_original = convert_column_types(df_original)\n",
        "df_test = convert_column_types(df_test)"
      ]
    },
    {
      "cell_type": "markdown",
      "metadata": {
        "id": "1l7no6rBv3uv"
      },
      "source": [
        "# Data manipulation"
      ]
    },
    {
      "cell_type": "markdown",
      "metadata": {
        "id": "Ljd1Y6WKv3uv"
      },
      "source": [
        "### Wyposazenie"
      ]
    },
    {
      "cell_type": "markdown",
      "metadata": {
        "id": "CgXmGLQRv3uv"
      },
      "source": [
        "##### One-hot encoding on each unique element from \"Wyposazenie\""
      ]
    },
    {
      "cell_type": "code",
      "execution_count": 113,
      "metadata": {
        "id": "1Q0kny37v3uv"
      },
      "outputs": [],
      "source": [
        "df_original_wyposazenie = df_original.copy()\n",
        "df_test_wyposazenie = df_test.copy()"
      ]
    },
    {
      "cell_type": "code",
      "execution_count": 114,
      "metadata": {
        "id": "5FGVRpqgv3uv"
      },
      "outputs": [],
      "source": [
        "df_original_wyposazenie[\"Wyposazenie\"] = df_original_wyposazenie[\"Wyposazenie\"].astype(str)\n",
        "df_test_wyposazenie[\"Wyposazenie\"] = df_test_wyposazenie[\"Wyposazenie\"].astype(str)\n",
        "\n",
        "df_original_wyposazenie[\"Wyposazenie\"] = df_original_wyposazenie[\"Wyposazenie\"].str.replace(r\"[\\[\\]']\", \"\", regex=True)\n",
        "df_test_wyposazenie[\"Wyposazenie\"] = df_test_wyposazenie[\"Wyposazenie\"].str.replace(r\"[\\[\\]']\", \"\", regex=True)"
      ]
    },
    {
      "cell_type": "code",
      "execution_count": 115,
      "metadata": {
        "colab": {
          "base_uri": "https://localhost:8080/"
        },
        "id": "qxXmEczBv3uv",
        "outputId": "6538dc88-3f48-4877-a210-0320ac4265a1"
      },
      "outputs": [
        {
          "output_type": "stream",
          "name": "stdout",
          "text": [
            "               Wyposażenie  Counts\n",
            "0                      ABS  118133\n",
            "12         Central locking  117470\n",
            "1   Electric front windows  115037\n",
            "2           Drivers airbag  114554\n",
            "3           Power steering  114405\n"
          ]
        }
      ],
      "source": [
        "feature_counts = {}\n",
        "\n",
        "for features in df_original_wyposazenie[\"Wyposazenie\"].str.split(\", \"):\n",
        "    for feature in features:\n",
        "        feature_counts[feature] = feature_counts.get(feature, 0) + 1\n",
        "\n",
        "\n",
        "feature_counts_df = pd.DataFrame(list(feature_counts.items()), columns=[\"Wyposażenie\", \"Counts\"])\n",
        "feature_counts_df = feature_counts_df.sort_values(by=\"Counts\", ascending=False)\n",
        "\n",
        "\n",
        "print(feature_counts_df.head(5))\n"
      ]
    },
    {
      "cell_type": "code",
      "execution_count": 116,
      "metadata": {
        "id": "_wYCB_yCv3uw"
      },
      "outputs": [],
      "source": [
        "encoded_features_original = pd.DataFrame(0, index=df_original_wyposazenie.index, columns=feature_counts_df[\"Wyposażenie\"])\n",
        "encoded_features_test = pd.DataFrame(0, index=df_test_wyposazenie.index, columns=feature_counts_df[\"Wyposażenie\"])\n",
        "\n",
        "\n",
        "for index, row in df_original_wyposazenie.iterrows():\n",
        "    features = row[\"Wyposazenie\"].split(\", \")\n",
        "    for feature in features:\n",
        "        if feature in encoded_features_original.columns:\n",
        "            encoded_features_original.at[index, feature] = 1\n",
        "\n",
        "\n",
        "for index, row in df_test_wyposazenie.iterrows():\n",
        "    features = row[\"Wyposazenie\"].split(\", \")\n",
        "    for feature in features:\n",
        "        if feature in encoded_features_test.columns:\n",
        "            encoded_features_test.at[index, feature] = 1\n",
        "\n",
        "\n",
        "df_original_wyposazenie_encoded = pd.concat([df_original_wyposazenie.drop(columns=[\"Wyposazenie\"]), encoded_features_original], axis=1)\n",
        "df_test_wyposazenie_encoded = pd.concat([df_test_wyposazenie.drop(columns=[\"Wyposazenie\"]), encoded_features_test], axis=1)\n"
      ]
    },
    {
      "cell_type": "code",
      "execution_count": 117,
      "metadata": {
        "colab": {
          "base_uri": "https://localhost:8080/",
          "height": 178
        },
        "id": "vfbFdn77v3uw",
        "outputId": "7db24892-1059-4129-a2fe-0738f4121342"
      },
      "outputs": [
        {
          "output_type": "execute_result",
          "data": {
            "text/plain": [
              "ABS\n",
              "1    118133\n",
              "0     17264\n",
              "Name: count, dtype: int64"
            ],
            "text/html": [
              "<div>\n",
              "<style scoped>\n",
              "    .dataframe tbody tr th:only-of-type {\n",
              "        vertical-align: middle;\n",
              "    }\n",
              "\n",
              "    .dataframe tbody tr th {\n",
              "        vertical-align: top;\n",
              "    }\n",
              "\n",
              "    .dataframe thead th {\n",
              "        text-align: right;\n",
              "    }\n",
              "</style>\n",
              "<table border=\"1\" class=\"dataframe\">\n",
              "  <thead>\n",
              "    <tr style=\"text-align: right;\">\n",
              "      <th></th>\n",
              "      <th>count</th>\n",
              "    </tr>\n",
              "    <tr>\n",
              "      <th>ABS</th>\n",
              "      <th></th>\n",
              "    </tr>\n",
              "  </thead>\n",
              "  <tbody>\n",
              "    <tr>\n",
              "      <th>1</th>\n",
              "      <td>118133</td>\n",
              "    </tr>\n",
              "    <tr>\n",
              "      <th>0</th>\n",
              "      <td>17264</td>\n",
              "    </tr>\n",
              "  </tbody>\n",
              "</table>\n",
              "</div><br><label><b>dtype:</b> int64</label>"
            ]
          },
          "metadata": {},
          "execution_count": 117
        }
      ],
      "source": [
        "df_original_wyposazenie_encoded[\"ABS\"].value_counts()"
      ]
    },
    {
      "cell_type": "markdown",
      "metadata": {
        "id": "2Zjj9Ukyv3uw"
      },
      "source": [
        "### Waluta"
      ]
    },
    {
      "cell_type": "markdown",
      "metadata": {
        "id": "Xd_4wiX2v3uw"
      },
      "source": [
        "##### Imputing missing values in \"Waluta\" by comparing the (\"Cena\") to median prices for the same Marka_pojazdu, Model_pojazdu, and Rok_produkcji, calculated  for PLN and EUR. And mapping to numeric format using \"PLN\" → 0 and \"EUR\" → 1."
      ]
    },
    {
      "cell_type": "code",
      "execution_count": 118,
      "metadata": {
        "id": "9vTZUng4v3uw"
      },
      "outputs": [],
      "source": [
        "df_original_waluta = df_original_wyposazenie_encoded.copy()\n",
        "df_test_waluta = df_test_wyposazenie_encoded.copy()"
      ]
    },
    {
      "cell_type": "code",
      "execution_count": 119,
      "metadata": {
        "id": "WLU94Px0v3uw"
      },
      "outputs": [],
      "source": [
        "mediana_eur = df_original[df_original['Waluta'] == 'EUR'].groupby(['Marka_pojazdu', 'Model_pojazdu', 'Rok_produkcji'], observed=False)['Cena'].median()\n",
        "mediana_pln = df_original[df_original['Waluta'] == 'PLN'].groupby(['Marka_pojazdu', 'Model_pojazdu', 'Rok_produkcji'], observed=False)['Cena'].median()\n",
        "\n",
        "KURS_EUR_PLN = 4.57\n",
        "\n",
        "def przypisz_walute(row):\n",
        "    if pd.isna(row['Waluta']):\n",
        "        med_eur = mediana_eur.get((row['Marka_pojazdu'], row['Model_pojazdu'], row['Rok_produkcji']), None)\n",
        "        med_pln = mediana_pln.get((row['Marka_pojazdu'], row['Model_pojazdu'], row['Rok_produkcji']), None)\n",
        "\n",
        "        if med_eur is not None and med_pln is not None:\n",
        "            cena_eur_w_pln = med_eur * KURS_EUR_PLN\n",
        "            cena_pln_w_eur = med_pln / KURS_EUR_PLN\n",
        "\n",
        "            if abs(row['Cena'] - cena_eur_w_pln) < abs(row['Cena'] - med_pln):\n",
        "                return 'EUR'\n",
        "            else:\n",
        "                return 'PLN'\n",
        "\n",
        "        elif med_eur is not None:\n",
        "            return 'EUR' if row['Cena'] < (med_eur * KURS_EUR_PLN) else 'PLN'\n",
        "\n",
        "        elif med_pln is not None:\n",
        "            return 'PLN' if row['Cena'] > (med_pln / KURS_EUR_PLN) else 'EUR'\n",
        "\n",
        "        return 'PLN'\n",
        "\n",
        "    return row['Waluta']"
      ]
    },
    {
      "cell_type": "code",
      "execution_count": 120,
      "metadata": {
        "colab": {
          "base_uri": "https://localhost:8080/"
        },
        "id": "WZgAYhZQv3uw",
        "outputId": "d962d491-d356-4676-b358-ae57826e2624"
      },
      "outputs": [
        {
          "output_type": "stream",
          "name": "stdout",
          "text": [
            "Waluta\n",
            "PLN    131856\n",
            "NaN      3376\n",
            "EUR       165\n",
            "Name: count, dtype: int64\n",
            "=================================================\n",
            "Waluta\n",
            "PLN    135169\n",
            "EUR       228\n",
            "Name: count, dtype: int64\n"
          ]
        }
      ],
      "source": [
        "print(df_original_waluta['Waluta'].value_counts(dropna=False))\n",
        "df_original_waluta['Waluta'] = df_original_waluta.apply(przypisz_walute, axis=1)\n",
        "\n",
        "print('=================================================')\n",
        "\n",
        "print(df_original_waluta['Waluta'].value_counts(dropna=False))"
      ]
    },
    {
      "cell_type": "code",
      "execution_count": 121,
      "metadata": {
        "id": "Hu6uE2kCv3uw"
      },
      "outputs": [],
      "source": [
        "df_original_waluta['Waluta'] = df_original_waluta[\"Waluta\"].map({\"PLN\": 0, \"EUR\": 1})\n",
        "df_test_waluta[\"Waluta\"] = df_test_waluta[\"Waluta\"].map({\"PLN\": 0, \"EUR\": 1})"
      ]
    },
    {
      "cell_type": "code",
      "execution_count": 122,
      "metadata": {
        "colab": {
          "base_uri": "https://localhost:8080/"
        },
        "id": "tElEpxNPv3ux",
        "outputId": "5cbf9e5d-963c-4495-9514-2996272d6114"
      },
      "outputs": [
        {
          "output_type": "stream",
          "name": "stdout",
          "text": [
            "Waluta\n",
            "0    135169\n",
            "1       228\n",
            "Name: count, dtype: int64\n"
          ]
        }
      ],
      "source": [
        "print(df_original_waluta['Waluta'].value_counts(dropna=False))"
      ]
    },
    {
      "cell_type": "markdown",
      "metadata": {
        "id": "lIUfucQkv3ux"
      },
      "source": [
        "### Stan"
      ]
    },
    {
      "cell_type": "markdown",
      "metadata": {
        "id": "X9vMOl9cv3ux"
      },
      "source": [
        "#### Mapping to numeric format using \"Used\" → 0 and \"New\" → 1, simple imputation and deleting nonsense rows"
      ]
    },
    {
      "cell_type": "code",
      "execution_count": 123,
      "metadata": {
        "id": "5bvsGgYbv3ux"
      },
      "outputs": [],
      "source": [
        "df_original_stan = df_original_waluta.copy()\n",
        "df_test_stan = df_test_waluta.copy()"
      ]
    },
    {
      "cell_type": "code",
      "source": [
        "df_original_stan.loc[df_original_stan[\"Przebieg_km\"] <= 5, \"Stan\"] = \"New\"\n",
        "df_original_stan.loc[df_original_stan[\"Przebieg_km\"] > 10_000, \"Stan\"] = \"Used\"\n",
        "\n",
        "df_test_stan.loc[df_test_stan[\"Przebieg_km\"] <= 5, \"Stan\"] = \"New\"\n",
        "df_test_stan.loc[df_test_stan[\"Przebieg_km\"] > 10_000, \"Stan\"] = \"Used\""
      ],
      "metadata": {
        "id": "GG1KyU1iMufM"
      },
      "execution_count": 124,
      "outputs": []
    },
    {
      "cell_type": "code",
      "execution_count": 125,
      "metadata": {
        "id": "Y7ICIpLDv3ux"
      },
      "outputs": [],
      "source": [
        "df_original_stan[\"Stan\"] = df_original_stan[\"Stan\"].map({\"Used\": 0.0, \"New\": 1.0})\n",
        "df_test_stan[\"Stan\"] = df_test_stan[\"Stan\"].map({\"Used\": 0.0, \"New\": 1.0})"
      ]
    },
    {
      "cell_type": "code",
      "execution_count": 126,
      "metadata": {
        "id": "jY_vff07v3ux"
      },
      "outputs": [],
      "source": [
        "max_used_idx = df_original_stan.loc[df_original_stan[\"Stan\"] == 0.0, \"Cena\"].idxmax()\n",
        "min_new_idx = df_original_stan.loc[df_original_stan[\"Stan\"] == 1.0, \"Cena\"].idxmin()\n",
        "\n",
        "df_original_stan.drop([max_used_idx, min_new_idx], inplace=True)"
      ]
    },
    {
      "cell_type": "code",
      "execution_count": 127,
      "metadata": {
        "id": "5jDMwzJMv3ux"
      },
      "outputs": [],
      "source": [
        "df_original_stan[\"Stan\"] = df_original_stan[\"Stan\"].astype(object).astype(float)\n",
        "df_test_stan[\"Stan\"] = df_test_stan[\"Stan\"].astype(object).astype(float)"
      ]
    },
    {
      "cell_type": "code",
      "execution_count": 128,
      "metadata": {
        "colab": {
          "base_uri": "https://localhost:8080/"
        },
        "id": "XctpoBBvv3ux",
        "outputId": "e4b07bb0-59b0-4c38-98ca-46eee6fb4676"
      },
      "outputs": [
        {
          "output_type": "stream",
          "name": "stdout",
          "text": [
            "Stan\n",
            "0.0    118213\n",
            "1.0     16858\n",
            "NaN       324\n",
            "Name: count, dtype: int64\n"
          ]
        }
      ],
      "source": [
        "print(df_original_stan['Stan'].value_counts(dropna=False))"
      ]
    },
    {
      "cell_type": "markdown",
      "metadata": {
        "id": "0a5UnZUlv3u0"
      },
      "source": [
        "### Model samocochodu"
      ]
    },
    {
      "cell_type": "markdown",
      "metadata": {
        "id": "4CSq2p01v3u0"
      },
      "source": [
        "#### Imputting missing values in \"Model_pojazdu\"  based on the most frequent model for each combination of vehicle brand and generation from an external reference dataset. Applying target encoding reflecting its typical market value."
      ]
    },
    {
      "cell_type": "code",
      "execution_count": 129,
      "metadata": {
        "id": "-Jow-eDUv3u1"
      },
      "outputs": [],
      "source": [
        "df_original_model = df_original_stan.copy()\n",
        "df_test_model = df_test_stan.copy()"
      ]
    },
    {
      "cell_type": "code",
      "execution_count": 130,
      "metadata": {
        "colab": {
          "base_uri": "https://localhost:8080/"
        },
        "id": "5TPK8MGav3u1",
        "outputId": "c05ebc14-bbb2-4407-d9a0-76ccd27c8f94"
      },
      "outputs": [
        {
          "output_type": "execute_result",
          "data": {
            "text/plain": [
              "np.int64(3309)"
            ]
          },
          "metadata": {},
          "execution_count": 130
        }
      ],
      "source": [
        "df_original_model[\"Model_pojazdu\"].isna().sum()"
      ]
    },
    {
      "cell_type": "code",
      "execution_count": 131,
      "metadata": {
        "id": "5FhXnvI_v3u1"
      },
      "outputs": [],
      "source": [
        "df_otomoto_clean = df_otomoto.dropna(subset=['generation', 'vehicle_model', 'vehicle_brand'])\n",
        "\n",
        "mapping_gen_marka_to_model = (\n",
        "    df_otomoto_clean\n",
        "    .groupby(['vehicle_brand', 'generation'])['vehicle_model']\n",
        "    .agg(lambda x: x.mode()[0])\n",
        "    .to_dict()\n",
        ")"
      ]
    },
    {
      "cell_type": "code",
      "execution_count": 132,
      "metadata": {
        "id": "MKS-rRY1v3u1"
      },
      "outputs": [],
      "source": [
        "mask_missing_model = df_original_model['Model_pojazdu'].isna()\n",
        "\n",
        "df_original_model.loc[mask_missing_model, 'Model_pojazdu'] = df_original_model.loc[mask_missing_model].apply(\n",
        "    lambda row: mapping_gen_marka_to_model.get((row['Marka_pojazdu'], row['Generacja_pojazdu'])),\n",
        "    axis=1\n",
        ")"
      ]
    },
    {
      "cell_type": "code",
      "execution_count": 133,
      "metadata": {
        "colab": {
          "base_uri": "https://localhost:8080/"
        },
        "id": "sIQVy5xKv3u1",
        "outputId": "4a232615-98d0-4d4a-f8a3-bd5c81918fbe"
      },
      "outputs": [
        {
          "output_type": "stream",
          "name": "stdout",
          "text": [
            "Imputted 1901 missing models\n"
          ]
        }
      ],
      "source": [
        "num_imputed = mask_missing_model.sum() - df_original_model.loc[mask_missing_model, 'Model_pojazdu'].isna().sum()\n",
        "print(f\"Imputted {num_imputed} missing models\")"
      ]
    },
    {
      "cell_type": "code",
      "execution_count": 134,
      "metadata": {
        "colab": {
          "base_uri": "https://localhost:8080/"
        },
        "id": "KUwtvw6Uv3u1",
        "outputId": "8d48f706-23e4-407d-ffdf-e9d182ff5f99"
      },
      "outputs": [
        {
          "output_type": "stream",
          "name": "stderr",
          "text": [
            "<ipython-input-134-b9aeda14a3d2>:7: FutureWarning: The default of observed=False is deprecated and will be changed to True in a future version of pandas. Pass observed=False to retain current behavior or observed=True to adopt the future default and silence this warning.\n",
            "  model_brand_median_price = df_original_model[mask_complete].groupby(\n",
            "<ipython-input-134-b9aeda14a3d2>:11: FutureWarning: The default of observed=False is deprecated and will be changed to True in a future version of pandas. Pass observed=False to retain current behavior or observed=True to adopt the future default and silence this warning.\n",
            "  model_brand_mean_price = df_original_model[mask_complete].groupby(\n",
            "<ipython-input-134-b9aeda14a3d2>:15: FutureWarning: The default of observed=False is deprecated and will be changed to True in a future version of pandas. Pass observed=False to retain current behavior or observed=True to adopt the future default and silence this warning.\n",
            "  brand_median_price = df_original_model[mask_complete].groupby(\"Marka_pojazdu\")[\"Cena\"].median()\n",
            "<ipython-input-134-b9aeda14a3d2>:16: FutureWarning: The default of observed=False is deprecated and will be changed to True in a future version of pandas. Pass observed=False to retain current behavior or observed=True to adopt the future default and silence this warning.\n",
            "  brand_mean_price = df_original_model[mask_complete].groupby(\"Marka_pojazdu\")[\"Cena\"].mean()\n"
          ]
        }
      ],
      "source": [
        "mask_complete = (\n",
        "    df_original_model[\"Model_pojazdu\"].notna() &\n",
        "    df_original_model[\"Marka_pojazdu\"].notna() &\n",
        "    df_original_model[\"Cena\"].notna()\n",
        ")\n",
        "\n",
        "model_brand_median_price = df_original_model[mask_complete].groupby(\n",
        "    [\"Model_pojazdu\", \"Marka_pojazdu\"]\n",
        ")[\"Cena\"].median()\n",
        "\n",
        "model_brand_mean_price = df_original_model[mask_complete].groupby(\n",
        "    [\"Model_pojazdu\", \"Marka_pojazdu\"]\n",
        ")[\"Cena\"].mean()\n",
        "\n",
        "brand_median_price = df_original_model[mask_complete].groupby(\"Marka_pojazdu\")[\"Cena\"].median()\n",
        "brand_mean_price = df_original_model[mask_complete].groupby(\"Marka_pojazdu\")[\"Cena\"].mean()\n",
        "\n",
        "global_median_price = df_original_model[\"Cena\"].median()\n",
        "global_mean_price = df_original_model[\"Cena\"].mean()"
      ]
    },
    {
      "cell_type": "code",
      "execution_count": 135,
      "metadata": {
        "id": "LfNqjBtov3u2"
      },
      "outputs": [],
      "source": [
        "def encode_model(row):\n",
        "    model, brand = row[\"Model_pojazdu\"], row[\"Marka_pojazdu\"]\n",
        "\n",
        "    if (model, brand) in model_brand_median_price.index and (model, brand) in model_brand_mean_price.index:\n",
        "        return (model_brand_median_price[(model, brand)] + model_brand_mean_price[(model, brand)]) / 2\n",
        "\n",
        "    elif brand in brand_median_price and brand in brand_mean_price:\n",
        "        return (brand_median_price[brand] + brand_mean_price[brand]) / 2\n",
        "\n",
        "\n",
        "    return (global_median_price + global_mean_price) / 2"
      ]
    },
    {
      "cell_type": "code",
      "execution_count": 136,
      "metadata": {
        "id": "L70nMRwav3u2"
      },
      "outputs": [],
      "source": [
        "df_original_model[\"Model_pojazdu_encoded\"] = df_original_model.apply(encode_model, axis=1)\n",
        "df_test_model[\"Model_pojazdu_encoded\"] = df_test_model.apply(encode_model, axis=1)"
      ]
    },
    {
      "cell_type": "code",
      "execution_count": 137,
      "metadata": {
        "colab": {
          "base_uri": "https://localhost:8080/"
        },
        "id": "ndtuTby1v3u2",
        "outputId": "ae7f58d0-8501-4b93-fde2-950a939f1e90"
      },
      "outputs": [
        {
          "output_type": "stream",
          "name": "stdout",
          "text": [
            "count    1.353950e+05\n",
            "mean     5.712091e+04\n",
            "std      6.268119e+04\n",
            "min      1.250000e+03\n",
            "25%      2.616247e+04\n",
            "50%      4.050529e+04\n",
            "75%      6.717259e+04\n",
            "max      2.100000e+06\n",
            "Name: Model_pojazdu_encoded, dtype: float64\n"
          ]
        }
      ],
      "source": [
        "print(df_original_model['Model_pojazdu_encoded'].describe())"
      ]
    },
    {
      "cell_type": "markdown",
      "metadata": {
        "id": "2_oEEv42v3u2"
      },
      "source": [
        "### Marka samocochodu"
      ]
    },
    {
      "cell_type": "markdown",
      "metadata": {
        "id": "nZ5acnW9v3u2"
      },
      "source": [
        "#### Imputing missing values in \"Marka_pojazdu\" by mapping each \"Model_pojazdu\" to the most frequent brand associated with it in the combined dataset. Target encoding is applied by assigning each brand a numeric value based on the average of its median and mean prices from the training set, with unknown brands in the test set receiving a global fallback value."
      ]
    },
    {
      "cell_type": "code",
      "execution_count": 138,
      "metadata": {
        "id": "5R4mOcnMv3u2"
      },
      "outputs": [],
      "source": [
        "df_original_marka = df_original_model.copy()\n",
        "df_test_marka = df_test_model.copy()"
      ]
    },
    {
      "cell_type": "code",
      "execution_count": 139,
      "metadata": {
        "id": "7w65liyCv3u2"
      },
      "outputs": [],
      "source": [
        "def imputting_marka_based_on_model(df_train, df_test):\n",
        "    df_both = pd.concat([df_train, df_test], axis=0).dropna(subset=['Marka_pojazdu', 'Model_pojazdu'])\n",
        "\n",
        "    model_to_brand = (\n",
        "        df_both\n",
        "        .groupby('Model_pojazdu', observed=False)['Marka_pojazdu']\n",
        "        .agg(lambda x: x.value_counts().index[0])\n",
        "    )\n",
        "\n",
        "    mask_brand_missing_train = df_train['Marka_pojazdu'].isna() & df_train['Model_pojazdu'].notna()\n",
        "    df_train.loc[mask_brand_missing_train, 'Marka_pojazdu'] = df_train.loc[mask_brand_missing_train, 'Model_pojazdu'].map(model_to_brand)\n",
        "\n",
        "    mask_brand_missing_test = df_test['Marka_pojazdu'].isna() & df_test['Model_pojazdu'].notna()\n",
        "    df_test.loc[mask_brand_missing_test, 'Marka_pojazdu'] = df_test.loc[mask_brand_missing_test, 'Model_pojazdu'].map(model_to_brand)\n",
        "\n",
        "    return df_train, df_test\n"
      ]
    },
    {
      "cell_type": "code",
      "execution_count": 140,
      "metadata": {
        "id": "3MbL_hVov3u3"
      },
      "outputs": [],
      "source": [
        "df_original_marka, df_test_marka = imputting_marka_based_on_model(df_original_marka, df_test_marka)"
      ]
    },
    {
      "cell_type": "code",
      "execution_count": 141,
      "metadata": {
        "id": "qMvYwXInv3u3"
      },
      "outputs": [],
      "source": [
        "def target_encode_marka(df_train, df_test, target_col=\"Cena\", brand_col=\"Marka_pojazdu\"):\n",
        "\n",
        "    brand_median_price = df_train.groupby(brand_col)[target_col].median()\n",
        "    brand_mean_price = df_train.groupby(brand_col)[target_col].mean()\n",
        "\n",
        "    brand_encoded_values = (brand_median_price + brand_mean_price) / 2\n",
        "\n",
        "    global_median = df_train[target_col].median()\n",
        "    global_mean = df_train[target_col].mean()\n",
        "    global_encoded_value = (global_median + global_mean) / 2\n",
        "\n",
        "    df_train[f\"{brand_col}_encoded\"] = df_train[brand_col].map(brand_encoded_values)\n",
        "    df_test[f\"{brand_col}_encoded\"] = df_test[brand_col].map(brand_encoded_values)\n",
        "\n",
        "    df_test[f\"{brand_col}_encoded\"].fillna(global_encoded_value, inplace=True)\n",
        "\n",
        "    return df_train, df_test\n"
      ]
    },
    {
      "cell_type": "code",
      "execution_count": 142,
      "metadata": {
        "colab": {
          "base_uri": "https://localhost:8080/"
        },
        "id": "5t0GbLFxv3u3",
        "outputId": "43acbd72-9cb7-4c02-fbd8-9a4fe644a7f2"
      },
      "outputs": [
        {
          "output_type": "stream",
          "name": "stderr",
          "text": [
            "<ipython-input-141-3c52e194508f>:3: FutureWarning: The default of observed=False is deprecated and will be changed to True in a future version of pandas. Pass observed=False to retain current behavior or observed=True to adopt the future default and silence this warning.\n",
            "  brand_median_price = df_train.groupby(brand_col)[target_col].median()\n",
            "<ipython-input-141-3c52e194508f>:4: FutureWarning: The default of observed=False is deprecated and will be changed to True in a future version of pandas. Pass observed=False to retain current behavior or observed=True to adopt the future default and silence this warning.\n",
            "  brand_mean_price = df_train.groupby(brand_col)[target_col].mean()\n",
            "<ipython-input-141-3c52e194508f>:15: FutureWarning: A value is trying to be set on a copy of a DataFrame or Series through chained assignment using an inplace method.\n",
            "The behavior will change in pandas 3.0. This inplace method will never work because the intermediate object on which we are setting values always behaves as a copy.\n",
            "\n",
            "For example, when doing 'df[col].method(value, inplace=True)', try using 'df.method({col: value}, inplace=True)' or df[col] = df[col].method(value) instead, to perform the operation inplace on the original object.\n",
            "\n",
            "\n",
            "  df_test[f\"{brand_col}_encoded\"].fillna(global_encoded_value, inplace=True)\n"
          ]
        }
      ],
      "source": [
        "df_original_marka_encoded, df_test_marka_encoded = target_encode_marka(df_original_marka, df_test_marka)"
      ]
    },
    {
      "cell_type": "code",
      "execution_count": 143,
      "metadata": {
        "id": "7ny8mg0Wv3u3"
      },
      "outputs": [],
      "source": [
        "df_original_marka_encoded[\"Marka_pojazdu_encoded\"] = df_original_marka_encoded[\"Marka_pojazdu_encoded\"].astype(object).astype(float)\n",
        "df_test_marka_encoded[\"Marka_pojazdu_encoded\"] = df_test_marka_encoded[\"Marka_pojazdu_encoded\"].astype(object).astype(float)"
      ]
    },
    {
      "cell_type": "code",
      "execution_count": 144,
      "metadata": {
        "colab": {
          "base_uri": "https://localhost:8080/"
        },
        "id": "uwswec33v3u3",
        "outputId": "85a0d3b1-d5cc-4fd9-ea80-1746f67c0962"
      },
      "outputs": [
        {
          "output_type": "stream",
          "name": "stdout",
          "text": [
            "count    1.353150e+05\n",
            "mean     5.228694e+04\n",
            "std      3.757505e+04\n",
            "min      4.588914e+03\n",
            "25%      3.442942e+04\n",
            "50%      4.305883e+04\n",
            "75%      7.137017e+04\n",
            "max      1.233554e+06\n",
            "Name: Marka_pojazdu_encoded, dtype: float64\n"
          ]
        }
      ],
      "source": [
        "print(df_original_marka_encoded['Marka_pojazdu_encoded'].describe())"
      ]
    },
    {
      "cell_type": "markdown",
      "metadata": {
        "id": "4YSqWo_6v3u3"
      },
      "source": [
        "### Naped"
      ]
    },
    {
      "cell_type": "markdown",
      "source": [
        "#### Target encoding on columna \"Naped\""
      ],
      "metadata": {
        "id": "sjgncTaYHZvr"
      }
    },
    {
      "cell_type": "code",
      "execution_count": 145,
      "metadata": {
        "id": "qi6nI-Whv3u4"
      },
      "outputs": [],
      "source": [
        "df_original_naped = df_original_marka_encoded.copy()\n",
        "df_test_naped = df_test_marka_encoded.copy()"
      ]
    },
    {
      "cell_type": "code",
      "execution_count": 146,
      "metadata": {
        "id": "-0DA0Zacv3u4"
      },
      "outputs": [],
      "source": [
        "def target_encode_naped(df_train, df_test, target_col=\"Cena\", naped_col=\"Naped\"):\n",
        "\n",
        "    df_train[naped_col] = df_train[naped_col].astype(str)\n",
        "    df_test[naped_col] = df_test[naped_col].astype(str)\n",
        "    naped_mean_price = df_train.groupby(naped_col)[target_col].mean()\n",
        "    naped_median_price = df_train.groupby(naped_col)[target_col].median()\n",
        "\n",
        "    naped_target_encoding = (naped_mean_price + naped_median_price) / 2\n",
        "\n",
        "    df_train[f\"{naped_col}_encoded\"] = df_train[naped_col].map(naped_target_encoding)\n",
        "    df_test[f\"{naped_col}_encoded\"] = df_test[naped_col].map(naped_target_encoding)\n",
        "\n",
        "    train_naped_values = set(df_train[naped_col].dropna().unique())\n",
        "    test_naped_values = set(df_test[naped_col].dropna().unique())\n",
        "\n",
        "    new_naped_in_test = test_naped_values - train_naped_values\n",
        "\n",
        "    global_mean_median = (df_train[target_col].mean() + df_train[target_col].median()) / 2\n",
        "    df_test.loc[df_test[naped_col].isin(new_naped_in_test), f\"{naped_col}_encoded\"] = global_mean_median\n",
        "\n",
        "\n",
        "    return df_train, df_test\n"
      ]
    },
    {
      "cell_type": "code",
      "execution_count": 147,
      "metadata": {
        "colab": {
          "base_uri": "https://localhost:8080/",
          "height": 304
        },
        "id": "ab2dniVjv3u4",
        "outputId": "d3c55939-3e52-4811-fcc9-f25bf51116be"
      },
      "outputs": [
        {
          "output_type": "execute_result",
          "data": {
            "text/plain": [
              "Naped\n",
              "Front wheels                    88698\n",
              "NaN                             13054\n",
              "Rear wheels                     11365\n",
              "4x4 (permanent)                 10749\n",
              "4x4 (attached automatically)     9767\n",
              "4x4 (attached manually)          1762\n",
              "Name: count, dtype: int64"
            ],
            "text/html": [
              "<div>\n",
              "<style scoped>\n",
              "    .dataframe tbody tr th:only-of-type {\n",
              "        vertical-align: middle;\n",
              "    }\n",
              "\n",
              "    .dataframe tbody tr th {\n",
              "        vertical-align: top;\n",
              "    }\n",
              "\n",
              "    .dataframe thead th {\n",
              "        text-align: right;\n",
              "    }\n",
              "</style>\n",
              "<table border=\"1\" class=\"dataframe\">\n",
              "  <thead>\n",
              "    <tr style=\"text-align: right;\">\n",
              "      <th></th>\n",
              "      <th>count</th>\n",
              "    </tr>\n",
              "    <tr>\n",
              "      <th>Naped</th>\n",
              "      <th></th>\n",
              "    </tr>\n",
              "  </thead>\n",
              "  <tbody>\n",
              "    <tr>\n",
              "      <th>Front wheels</th>\n",
              "      <td>88698</td>\n",
              "    </tr>\n",
              "    <tr>\n",
              "      <th>NaN</th>\n",
              "      <td>13054</td>\n",
              "    </tr>\n",
              "    <tr>\n",
              "      <th>Rear wheels</th>\n",
              "      <td>11365</td>\n",
              "    </tr>\n",
              "    <tr>\n",
              "      <th>4x4 (permanent)</th>\n",
              "      <td>10749</td>\n",
              "    </tr>\n",
              "    <tr>\n",
              "      <th>4x4 (attached automatically)</th>\n",
              "      <td>9767</td>\n",
              "    </tr>\n",
              "    <tr>\n",
              "      <th>4x4 (attached manually)</th>\n",
              "      <td>1762</td>\n",
              "    </tr>\n",
              "  </tbody>\n",
              "</table>\n",
              "</div><br><label><b>dtype:</b> int64</label>"
            ]
          },
          "metadata": {},
          "execution_count": 147
        }
      ],
      "source": [
        "df_original_naped[\"Naped\"].value_counts(dropna=False)"
      ]
    },
    {
      "cell_type": "code",
      "execution_count": 148,
      "metadata": {
        "id": "OpJw4I-nv3u4"
      },
      "outputs": [],
      "source": [
        "df_original_naped_encoded, df_test_naped_encoded = target_encode_naped(df_original_naped, df_test_naped)"
      ]
    },
    {
      "cell_type": "code",
      "execution_count": 149,
      "metadata": {
        "colab": {
          "base_uri": "https://localhost:8080/",
          "height": 304
        },
        "id": "nyLf8zEPv3u4",
        "outputId": "70aea147-e6d7-43de-9be4-567717d495c1"
      },
      "outputs": [
        {
          "output_type": "execute_result",
          "data": {
            "text/plain": [
              "Naped_encoded\n",
              "37081.260378     88698\n",
              "35098.318025     13054\n",
              "57834.547514     11365\n",
              "133949.077310    10749\n",
              "114994.039367     9767\n",
              "65888.173666      1762\n",
              "Name: count, dtype: int64"
            ],
            "text/html": [
              "<div>\n",
              "<style scoped>\n",
              "    .dataframe tbody tr th:only-of-type {\n",
              "        vertical-align: middle;\n",
              "    }\n",
              "\n",
              "    .dataframe tbody tr th {\n",
              "        vertical-align: top;\n",
              "    }\n",
              "\n",
              "    .dataframe thead th {\n",
              "        text-align: right;\n",
              "    }\n",
              "</style>\n",
              "<table border=\"1\" class=\"dataframe\">\n",
              "  <thead>\n",
              "    <tr style=\"text-align: right;\">\n",
              "      <th></th>\n",
              "      <th>count</th>\n",
              "    </tr>\n",
              "    <tr>\n",
              "      <th>Naped_encoded</th>\n",
              "      <th></th>\n",
              "    </tr>\n",
              "  </thead>\n",
              "  <tbody>\n",
              "    <tr>\n",
              "      <th>37081.260378</th>\n",
              "      <td>88698</td>\n",
              "    </tr>\n",
              "    <tr>\n",
              "      <th>35098.318025</th>\n",
              "      <td>13054</td>\n",
              "    </tr>\n",
              "    <tr>\n",
              "      <th>57834.547514</th>\n",
              "      <td>11365</td>\n",
              "    </tr>\n",
              "    <tr>\n",
              "      <th>133949.077310</th>\n",
              "      <td>10749</td>\n",
              "    </tr>\n",
              "    <tr>\n",
              "      <th>114994.039367</th>\n",
              "      <td>9767</td>\n",
              "    </tr>\n",
              "    <tr>\n",
              "      <th>65888.173666</th>\n",
              "      <td>1762</td>\n",
              "    </tr>\n",
              "  </tbody>\n",
              "</table>\n",
              "</div><br><label><b>dtype:</b> int64</label>"
            ]
          },
          "metadata": {},
          "execution_count": 149
        }
      ],
      "source": [
        "df_original_naped[\"Naped_encoded\"].value_counts(dropna=False)"
      ]
    },
    {
      "cell_type": "markdown",
      "metadata": {
        "id": "bEEoHDCsv3u4"
      },
      "source": [
        "### Generacja"
      ]
    },
    {
      "cell_type": "markdown",
      "metadata": {
        "id": "I31jWqCNv3u4"
      },
      "source": [
        "#### Imputing missing values in \"Generacja_pojazdu\" using external data from Otomoto. Each row is matched to a generation based on brand, model, and year falling within the generation's production range. Then, target encoding is applied by mapping each generation to the average of its mean and median prices from the training set. Unseen generations in the test set receive a global fallback value."
      ]
    },
    {
      "cell_type": "code",
      "execution_count": 150,
      "metadata": {
        "id": "inmC25sav3u4"
      },
      "outputs": [],
      "source": [
        "df_original_generacja = df_original_naped_encoded.copy()\n",
        "df_test_generacja = df_test_naped_encoded.copy()"
      ]
    },
    {
      "cell_type": "code",
      "execution_count": 151,
      "metadata": {
        "colab": {
          "base_uri": "https://localhost:8080/",
          "height": 490
        },
        "id": "pxLnwVExv3u4",
        "outputId": "95b6d2e7-17f7-4a16-f202-de8f0a58fd32"
      },
      "outputs": [
        {
          "output_type": "execute_result",
          "data": {
            "text/plain": [
              "Generacja_pojazdu\n",
              "NaN                 41659\n",
              "II (2012-)           2396\n",
              "II (2010-)           1440\n",
              "III (2013-)          1364\n",
              "II (2016-)           1309\n",
              "                    ...  \n",
              "II (1978-1986)          1\n",
              "IV (2008-2013)          1\n",
              "E (1992-1997)           1\n",
              "II (2000 - 2003)        1\n",
              "IV (1992-1997)          1\n",
              "Name: count, Length: 559, dtype: int64"
            ],
            "text/html": [
              "<div>\n",
              "<style scoped>\n",
              "    .dataframe tbody tr th:only-of-type {\n",
              "        vertical-align: middle;\n",
              "    }\n",
              "\n",
              "    .dataframe tbody tr th {\n",
              "        vertical-align: top;\n",
              "    }\n",
              "\n",
              "    .dataframe thead th {\n",
              "        text-align: right;\n",
              "    }\n",
              "</style>\n",
              "<table border=\"1\" class=\"dataframe\">\n",
              "  <thead>\n",
              "    <tr style=\"text-align: right;\">\n",
              "      <th></th>\n",
              "      <th>count</th>\n",
              "    </tr>\n",
              "    <tr>\n",
              "      <th>Generacja_pojazdu</th>\n",
              "      <th></th>\n",
              "    </tr>\n",
              "  </thead>\n",
              "  <tbody>\n",
              "    <tr>\n",
              "      <th>NaN</th>\n",
              "      <td>41659</td>\n",
              "    </tr>\n",
              "    <tr>\n",
              "      <th>II (2012-)</th>\n",
              "      <td>2396</td>\n",
              "    </tr>\n",
              "    <tr>\n",
              "      <th>II (2010-)</th>\n",
              "      <td>1440</td>\n",
              "    </tr>\n",
              "    <tr>\n",
              "      <th>III (2013-)</th>\n",
              "      <td>1364</td>\n",
              "    </tr>\n",
              "    <tr>\n",
              "      <th>II (2016-)</th>\n",
              "      <td>1309</td>\n",
              "    </tr>\n",
              "    <tr>\n",
              "      <th>...</th>\n",
              "      <td>...</td>\n",
              "    </tr>\n",
              "    <tr>\n",
              "      <th>II (1978-1986)</th>\n",
              "      <td>1</td>\n",
              "    </tr>\n",
              "    <tr>\n",
              "      <th>IV (2008-2013)</th>\n",
              "      <td>1</td>\n",
              "    </tr>\n",
              "    <tr>\n",
              "      <th>E (1992-1997)</th>\n",
              "      <td>1</td>\n",
              "    </tr>\n",
              "    <tr>\n",
              "      <th>II (2000 - 2003)</th>\n",
              "      <td>1</td>\n",
              "    </tr>\n",
              "    <tr>\n",
              "      <th>IV (1992-1997)</th>\n",
              "      <td>1</td>\n",
              "    </tr>\n",
              "  </tbody>\n",
              "</table>\n",
              "<p>559 rows × 1 columns</p>\n",
              "</div><br><label><b>dtype:</b> int64</label>"
            ]
          },
          "metadata": {},
          "execution_count": 151
        }
      ],
      "source": [
        "df_original_generacja[\"Generacja_pojazdu\"].value_counts(dropna=False)"
      ]
    },
    {
      "cell_type": "code",
      "execution_count": 152,
      "metadata": {
        "id": "qHiPN9OCv3u5"
      },
      "outputs": [],
      "source": [
        "df_original_generacja['brand_clean'] = df_original_generacja['Marka_pojazdu'].str.lower().str.strip()\n",
        "df_original_generacja['model_clean'] = df_original_generacja['Model_pojazdu'].str.lower().str.strip()\n",
        "df_otomoto['brand_clean'] = df_otomoto['vehicle_brand'].str.lower().str.strip()\n",
        "df_otomoto['model_clean'] = df_otomoto['vehicle_model'].str.lower().str.strip()"
      ]
    },
    {
      "cell_type": "code",
      "execution_count": 153,
      "metadata": {
        "id": "Wzd_dnXtv3u5"
      },
      "outputs": [],
      "source": [
        "pattern = r\"([^(]+)\\s*\\(\\s*(\\d{4})-(\\d{0,4})\\s*\\)\"\n",
        "df_otomoto[['gen_name', 'gen_start', 'gen_end']] = df_otomoto['generation'].str.extract(pattern)"
      ]
    },
    {
      "cell_type": "code",
      "execution_count": 154,
      "metadata": {
        "id": "-AlfZe7Rv3u5"
      },
      "outputs": [],
      "source": [
        "df_otomoto['gen_name'] = df_otomoto['gen_name'].str.strip()\n",
        "df_otomoto['gen_start'] = pd.to_numeric(df_otomoto['gen_start'], errors='coerce')\n",
        "df_otomoto['gen_end'] = (\n",
        "    df_otomoto['gen_end']\n",
        "    .replace('', np.nan)\n",
        "    .fillna(2023)\n",
        "    .astype(float)\n",
        ")"
      ]
    },
    {
      "cell_type": "code",
      "execution_count": 155,
      "metadata": {
        "id": "g8bNv3RIv3u5"
      },
      "outputs": [],
      "source": [
        "generation_dict = {}\n",
        "for _, row in df_otomoto.iterrows():\n",
        "    key = (row['brand_clean'], row['model_clean'])\n",
        "    generation_info = (row['gen_name'], row['gen_start'], row['gen_end'])\n",
        "    generation_dict.setdefault(key, []).append(generation_info)\n"
      ]
    },
    {
      "cell_type": "code",
      "execution_count": 156,
      "metadata": {
        "id": "Eau9ilgpv3u5"
      },
      "outputs": [],
      "source": [
        "def impute_generacja(row):\n",
        "    if pd.notna(row['Generacja_pojazdu']):\n",
        "        return row['Generacja_pojazdu']\n",
        "\n",
        "    key = (row['brand_clean'], row['model_clean'])\n",
        "    rok = row['Rok_produkcji']\n",
        "\n",
        "    potencjalne_generacje = generation_dict.get(key, [])\n",
        "\n",
        "    for gen_name, gen_start, gen_end in potencjalne_generacje:\n",
        "        if gen_start <= rok <= gen_end:\n",
        "            return f\"{gen_name} ({int(gen_start)}-{int(gen_end)})\"\n",
        "\n",
        "    return np.nan\n"
      ]
    },
    {
      "cell_type": "code",
      "execution_count": 157,
      "metadata": {
        "id": "InqRdzaVv3u5"
      },
      "outputs": [],
      "source": [
        "df_original_generacja['Generacja_pojazdu'] = df_original_generacja.apply(impute_generacja, axis=1)\n",
        "df_original_generacja.drop(columns=['brand_clean', 'model_clean'], inplace=True, errors='ignore')"
      ]
    },
    {
      "cell_type": "code",
      "execution_count": 158,
      "metadata": {
        "colab": {
          "base_uri": "https://localhost:8080/"
        },
        "id": "xMytAc2tv3u5",
        "outputId": "31a4df76-9423-4b3b-9800-7f4b44f51729"
      },
      "outputs": [
        {
          "output_type": "execute_result",
          "data": {
            "text/plain": [
              "np.int64(35028)"
            ]
          },
          "metadata": {},
          "execution_count": 158
        }
      ],
      "source": [
        "df_original_generacja['Generacja_pojazdu'].isna().sum()"
      ]
    },
    {
      "cell_type": "code",
      "execution_count": 159,
      "metadata": {
        "colab": {
          "base_uri": "https://localhost:8080/",
          "height": 490
        },
        "id": "_4L9ppjhv3u5",
        "outputId": "176a8e7b-cad4-42b9-bfa6-2c301a5f6845"
      },
      "outputs": [
        {
          "output_type": "execute_result",
          "data": {
            "text/plain": [
              "Generacja_pojazdu\n",
              "NaN                 35028\n",
              "II (2012-)           2396\n",
              "II (2010-)           1440\n",
              "III (2013-)          1364\n",
              "A (2008-2017)        1332\n",
              "                    ...  \n",
              "II (2000 - 2003)        1\n",
              "IV (1985-1992)          1\n",
              "IV (2006-2017)          1\n",
              "IV (1992-1997)          1\n",
              "VI (2010-2017)          1\n",
              "Name: count, Length: 703, dtype: int64"
            ],
            "text/html": [
              "<div>\n",
              "<style scoped>\n",
              "    .dataframe tbody tr th:only-of-type {\n",
              "        vertical-align: middle;\n",
              "    }\n",
              "\n",
              "    .dataframe tbody tr th {\n",
              "        vertical-align: top;\n",
              "    }\n",
              "\n",
              "    .dataframe thead th {\n",
              "        text-align: right;\n",
              "    }\n",
              "</style>\n",
              "<table border=\"1\" class=\"dataframe\">\n",
              "  <thead>\n",
              "    <tr style=\"text-align: right;\">\n",
              "      <th></th>\n",
              "      <th>count</th>\n",
              "    </tr>\n",
              "    <tr>\n",
              "      <th>Generacja_pojazdu</th>\n",
              "      <th></th>\n",
              "    </tr>\n",
              "  </thead>\n",
              "  <tbody>\n",
              "    <tr>\n",
              "      <th>NaN</th>\n",
              "      <td>35028</td>\n",
              "    </tr>\n",
              "    <tr>\n",
              "      <th>II (2012-)</th>\n",
              "      <td>2396</td>\n",
              "    </tr>\n",
              "    <tr>\n",
              "      <th>II (2010-)</th>\n",
              "      <td>1440</td>\n",
              "    </tr>\n",
              "    <tr>\n",
              "      <th>III (2013-)</th>\n",
              "      <td>1364</td>\n",
              "    </tr>\n",
              "    <tr>\n",
              "      <th>A (2008-2017)</th>\n",
              "      <td>1332</td>\n",
              "    </tr>\n",
              "    <tr>\n",
              "      <th>...</th>\n",
              "      <td>...</td>\n",
              "    </tr>\n",
              "    <tr>\n",
              "      <th>II (2000 - 2003)</th>\n",
              "      <td>1</td>\n",
              "    </tr>\n",
              "    <tr>\n",
              "      <th>IV (1985-1992)</th>\n",
              "      <td>1</td>\n",
              "    </tr>\n",
              "    <tr>\n",
              "      <th>IV (2006-2017)</th>\n",
              "      <td>1</td>\n",
              "    </tr>\n",
              "    <tr>\n",
              "      <th>IV (1992-1997)</th>\n",
              "      <td>1</td>\n",
              "    </tr>\n",
              "    <tr>\n",
              "      <th>VI (2010-2017)</th>\n",
              "      <td>1</td>\n",
              "    </tr>\n",
              "  </tbody>\n",
              "</table>\n",
              "<p>703 rows × 1 columns</p>\n",
              "</div><br><label><b>dtype:</b> int64</label>"
            ]
          },
          "metadata": {},
          "execution_count": 159
        }
      ],
      "source": [
        "df_original_generacja[\"Generacja_pojazdu\"].value_counts(dropna=False)"
      ]
    },
    {
      "cell_type": "code",
      "execution_count": 160,
      "metadata": {
        "id": "S06I094lv3u5"
      },
      "outputs": [],
      "source": [
        "def target_encode_generacja(df_train, df_test, target_col=\"Cena\", generacja_col=\"Generacja_pojazdu\"):\n",
        "\n",
        "    df_train[generacja_col] = df_train[generacja_col].astype(str)\n",
        "    df_test[generacja_col] = df_test[generacja_col].astype(str)\n",
        "\n",
        "    generacja_mean_price = df_train.groupby(generacja_col)[target_col].mean()\n",
        "    generacja_median_price = df_train.groupby(generacja_col)[target_col].median()\n",
        "\n",
        "    generacja_target_encoding = (generacja_mean_price + generacja_median_price) / 2\n",
        "\n",
        "    df_train[f\"{generacja_col}_encoded\"] = df_train[generacja_col].map(generacja_target_encoding)\n",
        "    df_test[f\"{generacja_col}_encoded\"] = df_test[generacja_col].map(generacja_target_encoding)\n",
        "\n",
        "    train_generacja_values = set(df_train[generacja_col].dropna().unique())\n",
        "    test_generacja_values = set(df_test[generacja_col].dropna().unique())\n",
        "\n",
        "    new_generacja_in_test = test_generacja_values - train_generacja_values\n",
        "\n",
        "    global_mean_median = (df_train[target_col].mean() + df_train[target_col].median()) / 2\n",
        "    df_test.loc[df_test[generacja_col].isin(new_generacja_in_test), f\"{generacja_col}_encoded\"] = global_mean_median\n",
        "\n",
        "    print(df_train[f\"{generacja_col}_encoded\"].value_counts(dropna=False))\n",
        "\n",
        "    return df_train, df_test"
      ]
    },
    {
      "cell_type": "code",
      "execution_count": 161,
      "metadata": {
        "colab": {
          "base_uri": "https://localhost:8080/"
        },
        "id": "iqIvYuiFv3u6",
        "outputId": "c40395f8-e36f-4d76-cbcd-f48dc629b920"
      },
      "outputs": [
        {
          "output_type": "stream",
          "name": "stdout",
          "text": [
            "Generacja_pojazdu_encoded\n",
            "68069.462701     35028\n",
            "45117.392321      2396\n",
            "40699.553819      1440\n",
            "53770.494501      1364\n",
            "31475.124249      1332\n",
            "                 ...  \n",
            "39500.000000         1\n",
            "2850.000000          1\n",
            "13900.000000         1\n",
            "10000.000000         1\n",
            "140000.000000        1\n",
            "Name: count, Length: 695, dtype: int64\n"
          ]
        }
      ],
      "source": [
        "df_original_generacja_encoded, df_test_generacja_encoded = target_encode_generacja(df_original_generacja, df_test_generacja)"
      ]
    },
    {
      "cell_type": "markdown",
      "source": [
        "### Rok produkcji"
      ],
      "metadata": {
        "id": "KPTEPmUoQttg"
      }
    },
    {
      "cell_type": "markdown",
      "source": [
        "#### Filling missing values in \"Rok_produkcji\" using generation ranges. The generation string is parsed to extract start and end years, and their average is used to estimate the production year when missing."
      ],
      "metadata": {
        "id": "FiAM3lHWTACp"
      }
    },
    {
      "cell_type": "code",
      "source": [
        "df_original_rok = df_original_generacja_encoded.copy()\n",
        "df_test_rok = df_test_generacja_encoded.copy()"
      ],
      "metadata": {
        "id": "A99C3ndnQub5"
      },
      "execution_count": 162,
      "outputs": []
    },
    {
      "cell_type": "code",
      "source": [
        "def extract_years(text):\n",
        "\n",
        "    match = re.search(r'(\\d{4})\\s*-\\s*(\\d{4}|-)?', str(text))\n",
        "    if match:\n",
        "        start_year = int(match.group(1))\n",
        "        end_year = match.group(2)\n",
        "\n",
        "        if end_year == \"-\" or end_year is None:\n",
        "            end_year = 2021\n",
        "\n",
        "        else:\n",
        "            end_year = int(end_year)\n",
        "\n",
        "        return start_year, end_year\n",
        "\n",
        "    return np.nan, np.nan"
      ],
      "metadata": {
        "id": "5Qzu9hCcQ3dJ"
      },
      "execution_count": 163,
      "outputs": []
    },
    {
      "cell_type": "code",
      "source": [
        "years_extracted = df_original_rok[\"Generacja_pojazdu\"].apply(extract_years)\n",
        "df_original_rok[\"Generacja_start\"] = years_extracted.apply(lambda x: x[0])\n",
        "df_original_rok[\"Generacja_end\"] = years_extracted.apply(lambda x: x[1])\n",
        "\n",
        "df_original_rok[\"Generacja_median_year\"] = df_original_rok[[\"Generacja_start\", \"Generacja_end\"]].mean(axis=1)"
      ],
      "metadata": {
        "id": "cEPZk5iVQ59N"
      },
      "execution_count": 164,
      "outputs": []
    },
    {
      "cell_type": "code",
      "source": [
        "df_original_rok.loc[df_original_rok[\"Rok_produkcji\"].isna(), \"Rok_produkcji\"] = df_original_rok[\"Generacja_median_year\"]\n",
        "df_original_rok.drop(columns=[\"Generacja_start\", \"Generacja_end\", \"Generacja_median_year\"], inplace=True)"
      ],
      "metadata": {
        "id": "pLRp8eBVQ70B"
      },
      "execution_count": 165,
      "outputs": []
    },
    {
      "cell_type": "markdown",
      "source": [
        "### Lokalizacja"
      ],
      "metadata": {
        "id": "YHX9gEBfNTC4"
      }
    },
    {
      "cell_type": "markdown",
      "source": [
        "#### Region names are extracted from the free-text \"Lokalizacja_oferty\" column by matching them against a predefined list of Polish regions. The result is saved in a new \"Wojewodztwo\" column. Next, one-hot encoding is applied to transform the region names into binary features, ensuring alignment between the training and test sets."
      ],
      "metadata": {
        "id": "f1GaNa3yUOpF"
      }
    },
    {
      "cell_type": "code",
      "source": [
        "df_original_lokalizacja = df_original_rok.copy()\n",
        "df_test_lokalizacja = df_test_rok.copy()"
      ],
      "metadata": {
        "id": "4ZTrholSNWRZ"
      },
      "execution_count": 166,
      "outputs": []
    },
    {
      "cell_type": "code",
      "source": [
        "wojewodztwa = [\n",
        "    \"Dolnośląskie\",\n",
        "    \"Kujawsko-pomorskie\",\n",
        "    \"Lubelskie\",\n",
        "    \"Lubuskie\",\n",
        "    \"Łódzkie\",\n",
        "    \"Małopolskie\",\n",
        "    \"Mazowieckie\",\n",
        "    \"Opolskie\",\n",
        "    \"Podkarpackie\",\n",
        "    \"Podlaskie\",\n",
        "    \"Pomorskie\",\n",
        "    \"Śląskie\",\n",
        "    \"Świętokrzyskie\",\n",
        "    \"Warmińsko-mazurskie\",\n",
        "    \"Wielkopolskie\",\n",
        "    \"Zachodniopomorskie\"\n",
        "]\n",
        "\n",
        "def find_wojewodztwo(text):\n",
        "    if pd.isna(text):\n",
        "        return np.nan\n",
        "    for woj in wojewodztwa:\n",
        "        if woj in text:\n",
        "            return woj\n",
        "    return np.nan"
      ],
      "metadata": {
        "id": "gXICjiwwNkgy"
      },
      "execution_count": 167,
      "outputs": []
    },
    {
      "cell_type": "code",
      "source": [
        "df_original_lokalizacja = df_original_lokalizacja.copy()\n",
        "df_original_lokalizacja['Wojewodztwo'] = df_original_lokalizacja['Lokalizacja_oferty'].apply(find_wojewodztwo)\n",
        "\n",
        "n_match = df_original_lokalizacja['Wojewodztwo'].notna().sum()\n",
        "n_total = len(df_original_lokalizacja)\n",
        "\n",
        "print(f\"Matched województwo in {n_match} rows of {n_total} ({n_match / n_total:.2%})\")\n"
      ],
      "metadata": {
        "colab": {
          "base_uri": "https://localhost:8080/"
        },
        "id": "v5ue606dRoEd",
        "outputId": "75f181d0-3a35-4899-fca3-0011f571ec34"
      },
      "execution_count": 168,
      "outputs": [
        {
          "output_type": "stream",
          "name": "stdout",
          "text": [
            "Matched województwo in 112970 rows of 135395 (83.44%)\n"
          ]
        }
      ]
    },
    {
      "cell_type": "code",
      "source": [
        "df_test_lokalizacja = df_test_lokalizacja.copy()\n",
        "df_test_lokalizacja['Wojewodztwo'] = df_test_lokalizacja['Lokalizacja_oferty'].apply(find_wojewodztwo)\n",
        "\n",
        "n_match_test = df_test_lokalizacja['Wojewodztwo'].notna().sum()\n",
        "n_total_test = len(df_test_lokalizacja)\n",
        "\n",
        "print(f\"Matched województwo in {n_match_test} testing rows of {n_total_test} ({n_match_test / n_total_test:.2%})\")\n"
      ],
      "metadata": {
        "colab": {
          "base_uri": "https://localhost:8080/"
        },
        "id": "hapZN2iXRouw",
        "outputId": "c4d2f5de-eaaa-4973-c762-87d9d4e0469b"
      },
      "execution_count": 169,
      "outputs": [
        {
          "output_type": "stream",
          "name": "stdout",
          "text": [
            "Matched województwo in 62378 testing rows of 72907 (85.56%)\n"
          ]
        }
      ]
    },
    {
      "cell_type": "code",
      "source": [
        "def one_hot_encode_wojewodztwa(df_train, df_test, col=\"Wojewodztwo\", prefix=\"woj\"):\n",
        "\n",
        "    dummies_train = pd.get_dummies(df_train[col], prefix=prefix)\n",
        "\n",
        "    dummies_test = pd.get_dummies(df_test[col], prefix=prefix)\n",
        "\n",
        "    dummies_test = dummies_test.reindex(columns=dummies_train.columns, fill_value=0)\n",
        "\n",
        "    df_train = pd.concat([df_train, dummies_train], axis=1)\n",
        "    df_test = pd.concat([df_test, dummies_test], axis=1)\n",
        "\n",
        "    return df_train, df_test\n"
      ],
      "metadata": {
        "id": "tdmtMbvxSI2U"
      },
      "execution_count": 170,
      "outputs": []
    },
    {
      "cell_type": "code",
      "source": [
        "df_original_lokalizacja, df_test_lokalizacja = one_hot_encode_wojewodztwa(\n",
        "    df_original_lokalizacja,\n",
        "    df_test_lokalizacja\n",
        ")\n"
      ],
      "metadata": {
        "id": "VvTuZiqxS9rW"
      },
      "execution_count": 171,
      "outputs": []
    },
    {
      "cell_type": "code",
      "source": [
        "df_original_lokalizacja.columns"
      ],
      "metadata": {
        "colab": {
          "base_uri": "https://localhost:8080/"
        },
        "id": "xcogsqW4TavX",
        "outputId": "6d6c4489-195d-4a52-a749-f842ced6d366"
      },
      "execution_count": 172,
      "outputs": [
        {
          "output_type": "execute_result",
          "data": {
            "text/plain": [
              "Index(['ID', 'Cena', 'Waluta', 'Stan', 'Marka_pojazdu', 'Model_pojazdu',\n",
              "       'Wersja_pojazdu', 'Generacja_pojazdu', 'Rok_produkcji', 'Przebieg_km',\n",
              "       ...\n",
              "       'woj_Opolskie', 'woj_Podkarpackie', 'woj_Podlaskie', 'woj_Pomorskie',\n",
              "       'woj_Warmińsko-mazurskie', 'woj_Wielkopolskie',\n",
              "       'woj_Zachodniopomorskie', 'woj_Łódzkie', 'woj_Śląskie',\n",
              "       'woj_Świętokrzyskie'],\n",
              "      dtype='object', length=117)"
            ]
          },
          "metadata": {},
          "execution_count": 172
        }
      ]
    },
    {
      "cell_type": "markdown",
      "source": [
        "### Skrzynia_biegow"
      ],
      "metadata": {
        "id": "jUSHT-C0UuUb"
      }
    },
    {
      "cell_type": "markdown",
      "source": [
        "#### The column \"Skrzynia_biegow\", containing values such as \"Manual\" and \"Automatic\", is transformed using one-hot encoding. This creates separate binary columns"
      ],
      "metadata": {
        "id": "DwkHQyw_VZg1"
      }
    },
    {
      "cell_type": "code",
      "source": [
        "df_original_skrzynia = df_original_lokalizacja.copy()\n",
        "df_test_skrzynia = df_test_lokalizacja.copy()"
      ],
      "metadata": {
        "id": "eojJrANYUrwc"
      },
      "execution_count": 173,
      "outputs": []
    },
    {
      "cell_type": "code",
      "source": [
        "df_original_skrzynia['Skrzynia_biegow'].value_counts(dropna=False)"
      ],
      "metadata": {
        "colab": {
          "base_uri": "https://localhost:8080/",
          "height": 210
        },
        "id": "xv_uBNLQUxCd",
        "outputId": "722901ea-8a54-47b3-e62f-4f105da609ff"
      },
      "execution_count": 174,
      "outputs": [
        {
          "output_type": "execute_result",
          "data": {
            "text/plain": [
              "Skrzynia_biegow\n",
              "Manual       84228\n",
              "Automatic    47392\n",
              "NaN           3775\n",
              "Name: count, dtype: int64"
            ],
            "text/html": [
              "<div>\n",
              "<style scoped>\n",
              "    .dataframe tbody tr th:only-of-type {\n",
              "        vertical-align: middle;\n",
              "    }\n",
              "\n",
              "    .dataframe tbody tr th {\n",
              "        vertical-align: top;\n",
              "    }\n",
              "\n",
              "    .dataframe thead th {\n",
              "        text-align: right;\n",
              "    }\n",
              "</style>\n",
              "<table border=\"1\" class=\"dataframe\">\n",
              "  <thead>\n",
              "    <tr style=\"text-align: right;\">\n",
              "      <th></th>\n",
              "      <th>count</th>\n",
              "    </tr>\n",
              "    <tr>\n",
              "      <th>Skrzynia_biegow</th>\n",
              "      <th></th>\n",
              "    </tr>\n",
              "  </thead>\n",
              "  <tbody>\n",
              "    <tr>\n",
              "      <th>Manual</th>\n",
              "      <td>84228</td>\n",
              "    </tr>\n",
              "    <tr>\n",
              "      <th>Automatic</th>\n",
              "      <td>47392</td>\n",
              "    </tr>\n",
              "    <tr>\n",
              "      <th>NaN</th>\n",
              "      <td>3775</td>\n",
              "    </tr>\n",
              "  </tbody>\n",
              "</table>\n",
              "</div><br><label><b>dtype:</b> int64</label>"
            ]
          },
          "metadata": {},
          "execution_count": 174
        }
      ]
    },
    {
      "cell_type": "code",
      "source": [
        "df_original_skrzynia_encoded = pd.get_dummies(df_original_skrzynia, columns=['Skrzynia_biegow'])\n",
        "df_test_skrzynia_encoded = pd.get_dummies(df_test_skrzynia, columns=['Skrzynia_biegow'])"
      ],
      "metadata": {
        "id": "vgXBATTgU0Rg"
      },
      "execution_count": 175,
      "outputs": []
    },
    {
      "cell_type": "markdown",
      "source": [
        "### Pierwszy wlasciciel"
      ],
      "metadata": {
        "id": "ssEapaY3VrjL"
      }
    },
    {
      "cell_type": "code",
      "source": [
        "df_original_pierwszy_wlascicel = df_original_skrzynia_encoded.copy()\n",
        "df_test_pierwszy_wlascicel = df_test_skrzynia_encoded.copy()"
      ],
      "metadata": {
        "id": "4cvWb7gBVryx"
      },
      "execution_count": 176,
      "outputs": []
    },
    {
      "cell_type": "code",
      "source": [
        "df_original_pierwszy_wlascicel['Pierwszy_wlasciciel'].value_counts(dropna=False)"
      ],
      "metadata": {
        "colab": {
          "base_uri": "https://localhost:8080/",
          "height": 178
        },
        "id": "DX7CD_DpVyBm",
        "outputId": "aa521e71-d266-408f-c44b-bc8f1de0748d"
      },
      "execution_count": 177,
      "outputs": [
        {
          "output_type": "execute_result",
          "data": {
            "text/plain": [
              "Pierwszy_wlasciciel\n",
              "NaN    94512\n",
              "Yes    40883\n",
              "Name: count, dtype: int64"
            ],
            "text/html": [
              "<div>\n",
              "<style scoped>\n",
              "    .dataframe tbody tr th:only-of-type {\n",
              "        vertical-align: middle;\n",
              "    }\n",
              "\n",
              "    .dataframe tbody tr th {\n",
              "        vertical-align: top;\n",
              "    }\n",
              "\n",
              "    .dataframe thead th {\n",
              "        text-align: right;\n",
              "    }\n",
              "</style>\n",
              "<table border=\"1\" class=\"dataframe\">\n",
              "  <thead>\n",
              "    <tr style=\"text-align: right;\">\n",
              "      <th></th>\n",
              "      <th>count</th>\n",
              "    </tr>\n",
              "    <tr>\n",
              "      <th>Pierwszy_wlasciciel</th>\n",
              "      <th></th>\n",
              "    </tr>\n",
              "  </thead>\n",
              "  <tbody>\n",
              "    <tr>\n",
              "      <th>NaN</th>\n",
              "      <td>94512</td>\n",
              "    </tr>\n",
              "    <tr>\n",
              "      <th>Yes</th>\n",
              "      <td>40883</td>\n",
              "    </tr>\n",
              "  </tbody>\n",
              "</table>\n",
              "</div><br><label><b>dtype:</b> int64</label>"
            ]
          },
          "metadata": {},
          "execution_count": 177
        }
      ]
    },
    {
      "cell_type": "code",
      "source": [
        "df_test_pierwszy_wlascicel['Pierwszy_wlasciciel'].value_counts(dropna=False)"
      ],
      "metadata": {
        "colab": {
          "base_uri": "https://localhost:8080/",
          "height": 178
        },
        "id": "RkEMphTiV0iW",
        "outputId": "b9879e16-74f5-4cca-f44a-83027cb5a75f"
      },
      "execution_count": 178,
      "outputs": [
        {
          "output_type": "execute_result",
          "data": {
            "text/plain": [
              "Pierwszy_wlasciciel\n",
              "NaN    49746\n",
              "Yes    23161\n",
              "Name: count, dtype: int64"
            ],
            "text/html": [
              "<div>\n",
              "<style scoped>\n",
              "    .dataframe tbody tr th:only-of-type {\n",
              "        vertical-align: middle;\n",
              "    }\n",
              "\n",
              "    .dataframe tbody tr th {\n",
              "        vertical-align: top;\n",
              "    }\n",
              "\n",
              "    .dataframe thead th {\n",
              "        text-align: right;\n",
              "    }\n",
              "</style>\n",
              "<table border=\"1\" class=\"dataframe\">\n",
              "  <thead>\n",
              "    <tr style=\"text-align: right;\">\n",
              "      <th></th>\n",
              "      <th>count</th>\n",
              "    </tr>\n",
              "    <tr>\n",
              "      <th>Pierwszy_wlasciciel</th>\n",
              "      <th></th>\n",
              "    </tr>\n",
              "  </thead>\n",
              "  <tbody>\n",
              "    <tr>\n",
              "      <th>NaN</th>\n",
              "      <td>49746</td>\n",
              "    </tr>\n",
              "    <tr>\n",
              "      <th>Yes</th>\n",
              "      <td>23161</td>\n",
              "    </tr>\n",
              "  </tbody>\n",
              "</table>\n",
              "</div><br><label><b>dtype:</b> int64</label>"
            ]
          },
          "metadata": {},
          "execution_count": 178
        }
      ]
    },
    {
      "cell_type": "code",
      "source": [
        "df_original_pierwszy_wlascicel['Pierwszy_wlasciciel'] = \\\n",
        "df_original_pierwszy_wlascicel['Pierwszy_wlasciciel'].apply(lambda x: 1 if x == 'Yes' else x)\n",
        "\n",
        "df_test_pierwszy_wlascicel['Pierwszy_wlasciciel'] = \\\n",
        "df_test_pierwszy_wlascicel['Pierwszy_wlasciciel'].apply(lambda x: 1 if x == 'Yes' else x)"
      ],
      "metadata": {
        "id": "A72FsXbVV8N5"
      },
      "execution_count": 179,
      "outputs": []
    },
    {
      "cell_type": "code",
      "source": [
        "df_original_pierwszy_wlascicel['Pierwszy_wlasciciel'] = df_original_pierwszy_wlascicel['Pierwszy_wlasciciel'].astype(float)\n",
        "df_test_pierwszy_wlascicel['Pierwszy_wlasciciel'] = df_test_pierwszy_wlascicel['Pierwszy_wlasciciel'].astype(float)"
      ],
      "metadata": {
        "id": "Q0dSgh_bV-Ux"
      },
      "execution_count": 180,
      "outputs": []
    },
    {
      "cell_type": "markdown",
      "metadata": {
        "id": "8nt1BS7Wv3u6"
      },
      "source": [
        "# Feature Engeneering"
      ]
    },
    {
      "cell_type": "code",
      "source": [
        "df_original_rok = df_original_pierwszy_wlascicel.copy()\n",
        "df_test_rok = df_test_pierwszy_wlascicel.copy()"
      ],
      "metadata": {
        "id": "bCR5Ct79WhV-"
      },
      "execution_count": 200,
      "outputs": []
    },
    {
      "cell_type": "code",
      "execution_count": 201,
      "metadata": {
        "id": "RARR7oPDv3u7"
      },
      "outputs": [],
      "source": [
        "df_original_rok['Moc_do_Pojemnosc'] = np.where(\n",
        "    df_original_rok['Pojemnosc_cm3'] == 0,\n",
        "    np.nan,\n",
        "    df_original_rok['Moc_KM'] / df_original_rok['Pojemnosc_cm3']\n",
        ")\n",
        "\n",
        "df_original_rok['Pojemnosc_bin'] = pd.qcut(df_original_rok['Pojemnosc_cm3'], q=10, labels=[0.0, 1.0, 2.0, 3.0, 4.0, 5.0, 6.0, 7.0, 8.0, 9.0]).astype(float)\n",
        "\n",
        "df_original_rok['Moc_bin'] = pd.qcut(df_original_rok['Moc_KM'], q=10, labels=[0.0, 1.0, 2.0, 3.0, 4.0, 5.0, 6.0, 7.0, 8.0, 9.0]).astype(float)\n"
      ]
    },
    {
      "cell_type": "code",
      "execution_count": 202,
      "metadata": {
        "id": "FeLSp2AGv3u7"
      },
      "outputs": [],
      "source": [
        "df_test_rok['Moc_do_Pojemnosc'] = np.where(\n",
        "    df_test_rok['Pojemnosc_cm3'] == 0,\n",
        "    np.nan,\n",
        "    df_test_rok['Moc_KM'] / df_test_rok['Pojemnosc_cm3']\n",
        ")\n",
        "\n",
        "df_test_rok['Pojemnosc_bin'] = pd.qcut(df_test_rok['Pojemnosc_cm3'], q=10, labels=[0.0, 1.0, 2.0, 3.0, 4.0, 5.0, 6.0, 7.0, 8.0, 9.0]).astype(float)\n",
        "\n",
        "df_test_rok['Moc_bin'] = pd.qcut(df_test_rok['Moc_KM'], q=10, labels=[0.0, 1.0, 2.0, 3.0, 4.0, 5.0, 6.0, 7.0, 8.0, 9.0]).astype(float)"
      ]
    },
    {
      "cell_type": "markdown",
      "source": [
        "### Checking for outliers"
      ],
      "metadata": {
        "id": "cnSVDD05W2xP"
      }
    },
    {
      "cell_type": "code",
      "source": [
        "fig, axes = plt.subplots(1, 2, figsize=(14, 5), sharey=True)\n",
        "\n",
        "axes[0].hist(df_original_rok[\"Moc_KM\"].dropna(), bins=100, color='skyblue', edgecolor='black')\n",
        "axes[0].set_title(\"Train (Moc_KM)\")\n",
        "axes[0].set_xlabel(\"Moc silnika (KM)\")\n",
        "axes[0].set_ylabel(\"Counts\")\n",
        "axes[0].grid(axis='y', linestyle='--', alpha=0.6)\n",
        "\n",
        "axes[1].hist(df_test_rok[\"Moc_KM\"].dropna(), bins=100, color='salmon', edgecolor='black')\n",
        "axes[1].set_title(\"Test (Moc_KM)\")\n",
        "axes[1].set_xlabel(\"Moc silnika (KM)\")\n",
        "axes[1].grid(axis='y', linestyle='--', alpha=0.6)\n",
        "\n",
        "plt.tight_layout()\n",
        "plt.show()\n"
      ],
      "metadata": {
        "colab": {
          "base_uri": "https://localhost:8080/",
          "height": 507
        },
        "id": "qUDh4_XzXAoc",
        "outputId": "8a04cb98-51dd-4100-8ced-c0d645aa701f"
      },
      "execution_count": 203,
      "outputs": [
        {
          "output_type": "display_data",
          "data": {
            "text/plain": [
              "<Figure size 1400x500 with 2 Axes>"
            ],
            "image/png": "[encoded data removed]"
          },
          "metadata": {}
        }
      ]
    },
    {
      "cell_type": "code",
      "source": [
        "fig, axes = plt.subplots(1, 2, figsize=(14, 5), sharey=True)\n",
        "\n",
        "axes[0].hist(\n",
        "    df_original_rok.loc[df_original_rok[\"Przebieg_km\"] > 1000000, \"Przebieg_km\"].dropna(),\n",
        "    bins=100,\n",
        "    color='skyblue',\n",
        "    edgecolor='black'\n",
        ")\n",
        "axes[0].set_title(\"Train (Przebieg_km > 1kk)\")\n",
        "axes[0].set_xlabel(\"Przebieg_km\")\n",
        "axes[0].set_ylabel(\"Counts\")\n",
        "axes[0].grid(axis='y', linestyle='--', alpha=0.6)\n",
        "\n",
        "axes[1].hist(\n",
        "    df_test_rok.loc[df_test_rok[\"Przebieg_km\"] > 1000000, \"Przebieg_km\"].dropna(),\n",
        "    bins=100,\n",
        "    color='salmon',\n",
        "    edgecolor='black'\n",
        ")\n",
        "axes[1].set_title(\"Test (Przebieg_km > 1kk)\")\n",
        "axes[1].set_xlabel(\"Przebieg_km\")\n",
        "axes[1].grid(axis='y', linestyle='--', alpha=0.6)\n",
        "\n",
        "plt.tight_layout()\n",
        "plt.show()\n"
      ],
      "metadata": {
        "colab": {
          "base_uri": "https://localhost:8080/",
          "height": 507
        },
        "id": "suotR1VbXI1G",
        "outputId": "32b034db-8827-44e7-e2e4-19d0f22bb6cd"
      },
      "execution_count": 204,
      "outputs": [
        {
          "output_type": "display_data",
          "data": {
            "text/plain": [
              "<Figure size 1400x500 with 2 Axes>"
            ],
            "image/png": "[encoded data removed]"
          },
          "metadata": {}
        }
      ]
    },
    {
      "cell_type": "code",
      "source": [
        "fig, axes = plt.subplots(1, 2, figsize=(14, 5), sharey=True)\n",
        "\n",
        "axes[0].hist(df_original_rok[\"Pojemnosc_cm3\"].dropna(), bins=100, color='skyblue', edgecolor='black')\n",
        "axes[0].set_title(\"Train (Pojemnosc_cm3)\")\n",
        "axes[0].set_xlabel(\"Pojemność [cm³]\")\n",
        "axes[0].set_ylabel(\"Liczba pojazdów\")\n",
        "axes[0].grid(axis='y', linestyle='--', alpha=0.6)\n",
        "\n",
        "axes[1].hist(df_test_rok[\"Pojemnosc_cm3\"].dropna(), bins=100, color='salmon', edgecolor='black')\n",
        "axes[1].set_title(\"Test (Pojemnosc_cm3)\")\n",
        "axes[1].set_xlabel(\"Pojemność [cm³]\")\n",
        "axes[1].grid(axis='y', linestyle='--', alpha=0.6)\n",
        "\n",
        "plt.tight_layout()\n",
        "plt.show()\n"
      ],
      "metadata": {
        "colab": {
          "base_uri": "https://localhost:8080/",
          "height": 507
        },
        "id": "uQjf53d5XaNB",
        "outputId": "fd4ad463-127e-49df-c05e-d4712efc654e"
      },
      "execution_count": 205,
      "outputs": [
        {
          "output_type": "display_data",
          "data": {
            "text/plain": [
              "<Figure size 1400x500 with 2 Axes>"
            ],
            "image/png": "[encoded data removed]"
          },
          "metadata": {}
        }
      ]
    },
    {
      "cell_type": "code",
      "source": [
        "df_original_rok[\"Duza_pojemnosc\"] = (df_original_rok[\"Pojemnosc_cm3\"] > 4000).astype(int)\n",
        "df_test_rok[\"Duza_pojemnosc\"] = (df_test_rok[\"Pojemnosc_cm3\"] > 4000).astype(int)\n",
        "\n",
        "print(df_original_rok[\"Duza_pojemnosc\"].value_counts())\n",
        "print(df_test_rok[\"Duza_pojemnosc\"].value_counts())\n"
      ],
      "metadata": {
        "colab": {
          "base_uri": "https://localhost:8080/"
        },
        "id": "QplRiatWarEJ",
        "outputId": "e1880662-3324-4938-d21d-e417b280dbff"
      },
      "execution_count": 206,
      "outputs": [
        {
          "output_type": "stream",
          "name": "stdout",
          "text": [
            "Duza_pojemnosc\n",
            "0    132379\n",
            "1      3016\n",
            "Name: count, dtype: int64\n",
            "Duza_pojemnosc\n",
            "0    71189\n",
            "1     1718\n",
            "Name: count, dtype: int64\n"
          ]
        }
      ]
    },
    {
      "cell_type": "code",
      "source": [
        "df_original_rok[\"Duza_moc\"] = (df_original_rok[\"Moc_KM\"] > 400).astype(int)\n",
        "df_test_rok[\"Duza_moc\"] = (df_test_rok[\"Moc_KM\"] > 400).astype(int)\n",
        "\n",
        "print(\"Train:\")\n",
        "print(df_original_rok[\"Duza_moc\"].value_counts())\n",
        "print(\"\\nTest:\")\n",
        "print(df_test_rok[\"Duza_moc\"].value_counts())\n"
      ],
      "metadata": {
        "colab": {
          "base_uri": "https://localhost:8080/"
        },
        "id": "4Xu-PbJ_aszk",
        "outputId": "6a095968-dd36-488d-ad28-2e1995fb278a"
      },
      "execution_count": 207,
      "outputs": [
        {
          "output_type": "stream",
          "name": "stdout",
          "text": [
            "Train:\n",
            "Duza_moc\n",
            "0    133002\n",
            "1      2393\n",
            "Name: count, dtype: int64\n",
            "\n",
            "Test:\n",
            "Duza_moc\n",
            "0    71524\n",
            "1     1383\n",
            "Name: count, dtype: int64\n"
          ]
        }
      ]
    },
    {
      "cell_type": "code",
      "source": [
        "df_original_rok[\"Nowy_pojazd\"] = (df_original_rok[\"Rok_produkcji\"] >= 1980).astype(int)\n",
        "df_test_rok[\"Nowy_pojazd\"] = (df_test_rok[\"Rok_produkcji\"] >= 1980).astype(int)\n",
        "\n",
        "print(\"Train:\")\n",
        "print(df_original_rok[\"Nowy_pojazd\"].value_counts())\n",
        "print(\"\\nTest:\")\n",
        "print(df_test_rok[\"Nowy_pojazd\"].value_counts())\n"
      ],
      "metadata": {
        "colab": {
          "base_uri": "https://localhost:8080/"
        },
        "id": "E2eJGGWWaugB",
        "outputId": "47c921b0-f718-40a9-8a0a-c09e363ae9ae"
      },
      "execution_count": 208,
      "outputs": [
        {
          "output_type": "stream",
          "name": "stdout",
          "text": [
            "Train:\n",
            "Nowy_pojazd\n",
            "1    133768\n",
            "0      1627\n",
            "Name: count, dtype: int64\n",
            "\n",
            "Test:\n",
            "Nowy_pojazd\n",
            "1    72567\n",
            "0      340\n",
            "Name: count, dtype: int64\n"
          ]
        }
      ]
    },
    {
      "cell_type": "markdown",
      "metadata": {
        "id": "WbbCnvWiv3u7"
      },
      "source": [
        "# XGboost"
      ]
    },
    {
      "cell_type": "markdown",
      "metadata": {
        "id": "11JI-Aqjv3u7"
      },
      "source": [
        "### Choosing columns"
      ]
    },
    {
      "cell_type": "code",
      "execution_count": 209,
      "metadata": {
        "id": "Di4-DUo0v3u7"
      },
      "outputs": [],
      "source": [
        "columns_to_check = [\n",
        "    'Rok_produkcji',\n",
        "    'Przebieg_km',\n",
        "    'Moc_KM',\n",
        "    'Pojemnosc_cm3',\n",
        "    'Waluta',\n",
        "    'Stan',\n",
        "    'Model_pojazdu_encoded',\n",
        "    'Marka_pojazdu_encoded',\n",
        "    'Naped_encoded',\n",
        "    'Generacja_pojazdu_encoded',\n",
        "    'Emisja_CO2',\n",
        "    'Moc_do_Pojemnosc',\n",
        "    'Pojemnosc_bin',\n",
        "    'Moc_bin',\n",
        "    'Skrzynia_biegow_Manual',\n",
        "    'Skrzynia_biegow_Automatic',\n",
        "    'Pierwszy_wlasciciel',\n",
        "    'Duza_pojemnosc',\n",
        "    'Duza_moc',\n",
        "    'Nowy_pojazd'\n",
        "]\n",
        "\n",
        "\n",
        "columns_from_wyposazenie = feature_counts_df[\"Wyposażenie\"].tolist()\n",
        "columns_to_check_extended = columns_to_check + columns_from_wyposazenie\n",
        "\n",
        "\n",
        "wojewodztwo_cols = [col for col in df_original_lokalizacja.columns if col.startswith(\"woj_\")]\n",
        "\n",
        "\n",
        "columns_to_check_extended += wojewodztwo_cols\n",
        "\n",
        "\n",
        "columns_to_check = columns_to_check_extended\n"
      ]
    },
    {
      "cell_type": "code",
      "execution_count": 210,
      "metadata": {
        "id": "UIvrfUYKv3u7"
      },
      "outputs": [],
      "source": [
        "dataset = df_original_rok.copy()"
      ]
    },
    {
      "cell_type": "markdown",
      "metadata": {
        "id": "xifmlg16v3u7"
      },
      "source": [
        "### Action"
      ]
    },
    {
      "cell_type": "code",
      "execution_count": 211,
      "metadata": {
        "id": "6oMTc0Awv3u7"
      },
      "outputs": [],
      "source": [
        "df_train = dataset.copy()\n",
        "y = df_train['Cena']\n",
        "X = df_train.drop(['Cena'], axis = 1)"
      ]
    },
    {
      "cell_type": "code",
      "execution_count": 212,
      "metadata": {
        "id": "bcusqcYjv3u7"
      },
      "outputs": [],
      "source": [
        "X = X[columns_to_check]"
      ]
    },
    {
      "cell_type": "code",
      "execution_count": 213,
      "metadata": {
        "id": "AbeDFkZrv3u7"
      },
      "outputs": [],
      "source": [
        "X_train_full, X_test, y_train_full, y_test = train_test_split(\n",
        "    X, y, test_size=0.3, random_state=42\n",
        ")\n",
        "\n",
        "y_train_full = np.log1p(y_train_full)\n",
        "\n",
        "X_train, X_val, y_train, y_val = train_test_split(\n",
        "    X_train_full, y_train_full, test_size=0.5, random_state=42\n",
        ")\n",
        "\n",
        "dtrain = xgb.DMatrix(X_train, label=y_train)\n",
        "dvalid = xgb.DMatrix(X_val, label=y_val)\n",
        "dtest = xgb.DMatrix(X_test, label=y_test)"
      ]
    },
    {
      "cell_type": "code",
      "execution_count": 214,
      "metadata": {
        "colab": {
          "base_uri": "https://localhost:8080/"
        },
        "id": "iTkhxc7-v3u8",
        "outputId": "dd215be7-d1f8-4f41-dd48-973a1a0884d3"
      },
      "outputs": [
        {
          "output_type": "stream",
          "name": "stdout",
          "text": [
            "(40619, 108)\n",
            "(40619,)\n"
          ]
        }
      ],
      "source": [
        "print(X_test.shape)\n",
        "print(y_test.shape)\n"
      ]
    },
    {
      "cell_type": "code",
      "execution_count": 215,
      "metadata": {
        "colab": {
          "base_uri": "https://localhost:8080/"
        },
        "id": "L14-QFRFv3u8",
        "outputId": "ca033af2-98d1-4bee-c565-2b978ef2cd4c"
      },
      "outputs": [
        {
          "output_type": "stream",
          "name": "stderr",
          "text": [
            "[I 2025-03-26 19:13:25,664] A new study created in memory with name: no-name-5836ce13-6599-4bfe-b49c-b9226d54ed5f\n",
            "[I 2025-03-26 19:14:33,368] Trial 0 finished with value: 0.24503174615735734 and parameters: {'n_estimators': 2143, 'eta': 0.03741460220489712, 'max_depth': 6, 'min_child_weight': 3, 'gamma': 0.007337794540855653, 'subsample': 0.43693543790751915, 'colsample_bytree': 0.4372520422755342, 'lambda': 2.41125370614757e-06, 'alpha': 3.864291653552648e-06}. Best is trial 0 with value: 0.24503174615735734.\n",
            "[I 2025-03-26 19:15:31,685] Trial 1 finished with value: 0.2462616907400516 and parameters: {'n_estimators': 2740, 'eta': 0.02386375314814827, 'max_depth': 16, 'min_child_weight': 3, 'gamma': 0.043905871819547276, 'subsample': 0.4109550372791705, 'colsample_bytree': 0.5340935020356804, 'lambda': 4.66894985370889e-06, 'alpha': 1.716956585247387e-05}. Best is trial 0 with value: 0.24503174615735734.\n",
            "[I 2025-03-26 19:16:56,029] Trial 2 finished with value: 0.24440310883255345 and parameters: {'n_estimators': 788, 'eta': 0.013914567008819545, 'max_depth': 18, 'min_child_weight': 7, 'gamma': 0.015671208907962142, 'subsample': 0.6769290462677257, 'colsample_bytree': 0.5752778304592077, 'lambda': 0.0003788145521097118, 'alpha': 2.1886526657465458e-07}. Best is trial 2 with value: 0.24440310883255345.\n",
            "[I 2025-03-26 19:18:06,178] Trial 3 finished with value: 0.2585987575837626 and parameters: {'n_estimators': 291, 'eta': 0.012642368880405602, 'max_depth': 19, 'min_child_weight': 2, 'gamma': 0.02105538125025261, 'subsample': 0.7831558120602008, 'colsample_bytree': 0.5066330569946034, 'lambda': 5.854751355295722e-05, 'alpha': 1.8283634209844492e-06}. Best is trial 2 with value: 0.24440310883255345.\n",
            "[I 2025-03-26 19:19:06,872] Trial 4 finished with value: 0.2424603028506845 and parameters: {'n_estimators': 3464, 'eta': 0.042558155235381784, 'max_depth': 6, 'min_child_weight': 6, 'gamma': 0.049443054445324736, 'subsample': 0.6992662617519358, 'colsample_bytree': 0.456088798412881, 'lambda': 0.0001435877247343462, 'alpha': 2.587641015421048e-07}. Best is trial 4 with value: 0.2424603028506845.\n",
            "[I 2025-03-26 19:19:36,578] Trial 5 finished with value: 0.24593343097535106 and parameters: {'n_estimators': 2295, 'eta': 0.045886797639189306, 'max_depth': 10, 'min_child_weight': 3, 'gamma': 0.006501428605913884, 'subsample': 0.40774678314811885, 'colsample_bytree': 0.5357671065879782, 'lambda': 7.02283498576434e-07, 'alpha': 1.1539490593862668e-06}. Best is trial 4 with value: 0.2424603028506845.\n",
            "[I 2025-03-26 19:22:03,377] Trial 6 finished with value: 0.24673116350713878 and parameters: {'n_estimators': 2509, 'eta': 0.007401314530268618, 'max_depth': 14, 'min_child_weight': 2, 'gamma': 0.029465276845164215, 'subsample': 0.6799033440083725, 'colsample_bytree': 0.4204668857655652, 'lambda': 4.531311844091798e-06, 'alpha': 5.9923977311417614e-05}. Best is trial 4 with value: 0.2424603028506845.\n",
            "[I 2025-03-26 19:24:27,602] Trial 7 finished with value: 0.2439267187110543 and parameters: {'n_estimators': 2129, 'eta': 0.007247905652573923, 'max_depth': 14, 'min_child_weight': 5, 'gamma': 0.02574445560291543, 'subsample': 0.7778379023963253, 'colsample_bytree': 0.5173110081003985, 'lambda': 0.0004107784588077005, 'alpha': 3.547307332246855e-07}. Best is trial 4 with value: 0.2424603028506845.\n",
            "[I 2025-03-26 19:24:57,907] Trial 8 finished with value: 0.24540948058515233 and parameters: {'n_estimators': 782, 'eta': 0.041332607991928574, 'max_depth': 11, 'min_child_weight': 2, 'gamma': 0.0463754290198017, 'subsample': 0.5391063438982027, 'colsample_bytree': 0.5501624206272311, 'lambda': 8.016631879017464e-05, 'alpha': 0.0003413692239351971}. Best is trial 4 with value: 0.2424603028506845.\n",
            "[I 2025-03-26 19:25:36,779] Trial 9 finished with value: 0.2445498543921062 and parameters: {'n_estimators': 3156, 'eta': 0.03879240953123018, 'max_depth': 11, 'min_child_weight': 3, 'gamma': 0.04479431090980335, 'subsample': 0.571236475948518, 'colsample_bytree': 0.5929680094296771, 'lambda': 4.505738586601553e-05, 'alpha': 3.067488059275998e-05}. Best is trial 4 with value: 0.2424603028506845.\n"
          ]
        },
        {
          "output_type": "stream",
          "name": "stdout",
          "text": [
            "Najlepsze hiperparametry: {'n_estimators': 3464, 'eta': 0.042558155235381784, 'max_depth': 6, 'min_child_weight': 6, 'gamma': 0.049443054445324736, 'subsample': 0.6992662617519358, 'colsample_bytree': 0.456088798412881, 'lambda': 0.0001435877247343462, 'alpha': 2.587641015421048e-07}\n",
            "Najlepszy wynik (RMSE): 0.2424603028506845\n",
            "Final predictions (log scale): [ 9.913712  11.107907  10.5417595 ... 10.420573   9.810068   9.057702 ]\n",
            "Final predictions (original scale): [20204.53  66695.47  37863.13  ... 33541.656 18215.229  8583.401]\n",
            "RMSE on test set: 23295.3557603227\n"
          ]
        }
      ],
      "source": [
        "import os\n",
        "import random\n",
        "import numpy as np\n",
        "\n",
        "\n",
        "SEED = 1\n",
        "\n",
        "\n",
        "import optuna\n",
        "import xgboost as xgb\n",
        "from sklearn.metrics import mean_squared_error\n",
        "\n",
        "sampler = optuna.samplers.TPESampler(seed=SEED)\n",
        "study = optuna.create_study(direction='minimize', sampler=sampler)\n",
        "\n",
        "def objective(trial):\n",
        "    n_estimators = trial.suggest_int('n_estimators', 100, 5000)\n",
        "\n",
        "    params = {\n",
        "      'objective': 'reg:squarederror',\n",
        "      'eval_metric': 'rmse',\n",
        "      'booster': 'gbtree',\n",
        "      'eta': trial.suggest_float('eta', 0.005, 0.05),\n",
        "      'max_depth': trial.suggest_int('max_depth', 6, 20),\n",
        "      'min_child_weight': trial.suggest_int('min_child_weight', 2, 7),\n",
        "      'gamma': trial.suggest_float('gamma', 0.0, 0.05),\n",
        "      'subsample': trial.suggest_float('subsample', 0.4, 0.8),\n",
        "      'colsample_bytree': trial.suggest_float('colsample_bytree', 0.4, 0.6),\n",
        "      'lambda': trial.suggest_float('lambda', 1e-7, 1e-3, log=True),\n",
        "      'alpha': trial.suggest_float('alpha', 1e-7, 1e-3, log=True),\n",
        "      'device': 'cuda',\n",
        "      'seed': SEED,\n",
        "      'verbosity': 0\n",
        "\n",
        "    }\n",
        "\n",
        "    bst = xgb.train(\n",
        "        params,\n",
        "        dtrain,\n",
        "        num_boost_round=n_estimators,\n",
        "        evals=[(dvalid, 'validation')],\n",
        "        early_stopping_rounds=50,\n",
        "        verbose_eval=False\n",
        "    )\n",
        "\n",
        "    preds = bst.predict(dvalid, iteration_range=(0, bst.best_iteration))\n",
        "    rmse = np.sqrt(mean_squared_error(y_val, preds))\n",
        "    return rmse\n",
        "\n",
        "study.optimize(objective, n_trials=10)\n",
        "\n",
        "print(\"Najlepsze hiperparametry:\", study.best_params)\n",
        "print(\"Najlepszy wynik (RMSE):\", study.best_value)\n",
        "\n",
        "X_train_merged = pd.concat([X_train, X_val])\n",
        "y_train_merged = pd.concat([y_train, y_val])\n",
        "dtrain_merged = xgb.DMatrix(X_train_merged, label=y_train_merged)\n",
        "\n",
        "final_params = study.best_params.copy()\n",
        "best_n_estimators = final_params.pop('n_estimators')\n",
        "final_params.update({\n",
        "    'objective': 'reg:squarederror',\n",
        "    'eval_metric': 'rmse',\n",
        "    'booster': 'gbtree',\n",
        "    'device': 'cuda',\n",
        "    'seed': SEED,\n",
        "    'verbosity': 0\n",
        "})\n",
        "\n",
        "final_model = xgb.train(\n",
        "    final_params,\n",
        "    dtrain_merged,\n",
        "    num_boost_round=best_n_estimators,\n",
        "    verbose_eval=False\n",
        ")\n",
        "\n",
        "final_preds = final_model.predict(dtest, iteration_range=(0, best_n_estimators))\n",
        "print(\"Final predictions (log scale):\", final_preds)\n",
        "\n",
        "final_preds_original = np.expm1(final_preds)\n",
        "print(\"Final predictions (original scale):\", final_preds_original)\n",
        "\n",
        "rmse_test = np.sqrt(mean_squared_error(y_test, final_preds_original))\n",
        "print(\"RMSE on test set:\", rmse_test)\n"
      ]
    },
    {
      "cell_type": "markdown",
      "metadata": {
        "id": "kw8tYPpLv3u8"
      },
      "source": [
        "### Final prediction based on best hyperparameters"
      ]
    },
    {
      "cell_type": "code",
      "execution_count": 216,
      "metadata": {
        "id": "yZeeLKOWv3u8",
        "colab": {
          "base_uri": "https://localhost:8080/"
        },
        "outputId": "3629cf71-ac0e-46c9-fd36-91aa84bf380d"
      },
      "outputs": [
        {
          "output_type": "stream",
          "name": "stdout",
          "text": [
            "Final prediction: [198451.33   20175.01   19694.707 ...  65550.625  25972.402 194391.44 ]\n"
          ]
        }
      ],
      "source": [
        "import xgboost as xgb\n",
        "from sklearn.metrics import mean_squared_error\n",
        "from sklearn.model_selection import train_test_split\n",
        "import numpy as np\n",
        "import pandas as pd\n",
        "\n",
        "y_train_full_log = np.log1p(y)\n",
        "\n",
        "dtrain_full = xgb.DMatrix(X, label=y_train_full_log)\n",
        "\n",
        "dtest = xgb.DMatrix(df_test_rok[columns_to_check])\n",
        "\n",
        "params = {\n",
        "    'objective': 'reg:squarederror',\n",
        "    'eval_metric': 'rmse',\n",
        "    'booster': 'gbtree',\n",
        "    'eta': 0.015585502897414984,\n",
        "    'max_depth': 8,\n",
        "    'min_child_weight': 3,\n",
        "    'gamma': 0.014398001187365343,\n",
        "    'subsample': 0.5725110488549374,\n",
        "    'colsample_bytree': 0.4086665476849841,\n",
        "    'lambda': 4.745204180610975e-06,\n",
        "    'alpha': 2.5350801304973753e-05,\n",
        "    'device': 'cuda',\n",
        "    'seed': 42\n",
        "}\n",
        "\n",
        "final_model = xgb.train(\n",
        "    params,\n",
        "    dtrain_full,\n",
        "    num_boost_round=4544,\n",
        "    verbose_eval=False\n",
        ")\n",
        "\n",
        "final_preds_log = final_model.predict(dtest)\n",
        "final_preds_original_scale = np.expm1(final_preds_log)\n",
        "\n",
        "\n",
        "print(\"Final prediction:\", final_preds_original_scale)"
      ]
    },
    {
      "cell_type": "code",
      "source": [
        "import matplotlib.pyplot as plt\n",
        "import pandas as pd\n",
        "\n",
        "importance = final_model.get_score(importance_type='gain')\n",
        "\n",
        "importance_df = pd.DataFrame(importance.items(), columns=['Feature', 'Importance'])\n",
        "importance_df = importance_df.sort_values(by=\"Importance\", ascending=False)\n",
        "\n",
        "top_n = 30\n",
        "importance_df_top = importance_df.head(top_n)\n",
        "\n",
        "plt.figure(figsize=(12, 8))\n",
        "plt.barh(importance_df_top['Feature'], importance_df_top['Importance'], color='royalblue')\n",
        "plt.xlabel(\"Importance (Gain)\", fontsize=12)\n",
        "plt.ylabel(\"Feature\", fontsize=12)\n",
        "plt.title(\"Most important features according to XGBoost\", fontsize=14)\n",
        "plt.gca().invert_yaxis()\n",
        "plt.grid(axis=\"x\", linestyle=\"--\", alpha=0.7)\n",
        "plt.tight_layout()\n",
        "plt.show()\n"
      ],
      "metadata": {
        "colab": {
          "base_uri": "https://localhost:8080/",
          "height": 807
        },
        "id": "UK4Axh6MdWK3",
        "outputId": "0c7b7f43-1172-4f4e-b17b-9f082c264e21"
      },
      "execution_count": 217,
      "outputs": [
        {
          "output_type": "display_data",
          "data": {
            "text/plain": [
              "<Figure size 1200x800 with 1 Axes>"
            ],
            "image/png": "[encoded data removed]"
          },
          "metadata": {}
        }
      ]
    },
    {
      "cell_type": "code",
      "source": [
        "df_predictions = pd.DataFrame({\n",
        "    \"ID\": df_test_naped[\"ID\"].values,\n",
        "    \"Cena\": final_preds_original_scale\n",
        "})\n",
        "\n",
        "print(df_predictions.head())\n",
        "\n",
        "df_predictions.to_csv(\"predictions.csv\", index=False)\n"
      ],
      "metadata": {
        "id": "qY1iHrYJSVlS",
        "colab": {
          "base_uri": "https://localhost:8080/"
        },
        "outputId": "1ad9dcb5-cb73-4a77-b25a-438bc63a2ca7"
      },
      "execution_count": 218,
      "outputs": [
        {
          "output_type": "stream",
          "name": "stdout",
          "text": [
            "   ID           Cena\n",
            "0   1  198451.328125\n",
            "1   2   20175.009766\n",
            "2   3   19694.707031\n",
            "3   4  103765.765625\n",
            "4   5   88544.312500\n"
          ]
        }
      ]
    }
  ],
  "metadata": {
    "colab": {
      "provenance": []
    },
    "kernelspec": {
      "display_name": "Python 3",
      "name": "python3"
    },
    "language_info": {
      "codemirror_mode": {
        "name": "ipython",
        "version": 3
      },
      "file_extension": ".py",
      "mimetype": "text/x-python",
      "name": "python",
      "nbconvert_exporter": "python",
      "pygments_lexer": "ipython3",
      "version": "3.12.3"
    }
  },
  "nbformat": 4,
  "nbformat_minor": 0
}